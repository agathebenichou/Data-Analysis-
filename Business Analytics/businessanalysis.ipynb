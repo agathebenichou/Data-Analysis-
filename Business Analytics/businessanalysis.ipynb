{
 "cells": [
  {
   "cell_type": "markdown",
   "metadata": {},
   "source": [
    "The task at hand is to optimize marketing expenses for the Yandex.Afisha product."
   ]
  },
  {
   "cell_type": "markdown",
   "metadata": {},
   "source": [
    "## Open data files, study tables and optimize where possible"
   ]
  },
  {
   "cell_type": "code",
   "execution_count": 1,
   "metadata": {},
   "outputs": [],
   "source": [
    "import pandas as pd\n",
    "import numpy as np\n",
    "import matplotlib as mpl\n",
    "import matplotlib.pyplot as plt\n",
    "import seaborn as sns\n",
    "import datetime"
   ]
  },
  {
   "cell_type": "code",
   "execution_count": 2,
   "metadata": {
    "scrolled": true
   },
   "outputs": [
    {
     "name": "stdout",
     "output_type": "stream",
     "text": [
      "<class 'pandas.core.frame.DataFrame'>\n",
      "RangeIndex: 359400 entries, 0 to 359399\n",
      "Data columns (total 5 columns):\n",
      "Device       359400 non-null category\n",
      "End Ts       359400 non-null datetime64[ns]\n",
      "Source Id    359400 non-null int64\n",
      "Start Ts     359400 non-null datetime64[ns]\n",
      "Uid          359400 non-null uint64\n",
      "dtypes: category(1), datetime64[ns](2), int64(1), uint64(1)\n",
      "memory usage: 11.3 MB\n",
      "None\n",
      "           Source Id           Uid\n",
      "count  359400.000000  3.594000e+05\n",
      "mean        3.750515  9.202557e+18\n",
      "std         1.917116  5.298433e+18\n",
      "min         1.000000  1.186350e+13\n",
      "25%         3.000000  4.613407e+18\n",
      "50%         4.000000  9.227413e+18\n",
      "75%         5.000000  1.372824e+19\n",
      "max        10.000000  1.844668e+19\n",
      "<class 'pandas.core.frame.DataFrame'>\n",
      "RangeIndex: 50415 entries, 0 to 50414\n",
      "Data columns (total 3 columns):\n",
      "Buy Ts     50415 non-null datetime64[ns]\n",
      "Revenue    50415 non-null float64\n",
      "Uid        50415 non-null uint64\n",
      "dtypes: datetime64[ns](1), float64(1), uint64(1)\n",
      "memory usage: 1.2 MB\n",
      "None\n",
      "            Revenue           Uid\n",
      "count  50415.000000  5.041500e+04\n",
      "mean       4.999647  9.098161e+18\n",
      "std       21.818359  5.285742e+18\n",
      "min        0.000000  3.135781e+14\n",
      "25%        1.220000  4.533567e+18\n",
      "50%        2.500000  9.102274e+18\n",
      "75%        4.890000  1.368290e+19\n",
      "max     2633.280000  1.844617e+19\n",
      "<class 'pandas.core.frame.DataFrame'>\n",
      "RangeIndex: 2542 entries, 0 to 2541\n",
      "Data columns (total 3 columns):\n",
      "source_id    2542 non-null int64\n",
      "dt           2542 non-null datetime64[ns]\n",
      "costs        2542 non-null float64\n",
      "dtypes: datetime64[ns](1), float64(1), int64(1)\n",
      "memory usage: 59.7 KB\n",
      "None\n",
      "         source_id        costs\n",
      "count  2542.000000  2542.000000\n",
      "mean      4.857199   129.477427\n",
      "std       3.181581   156.296628\n",
      "min       1.000000     0.540000\n",
      "25%       2.000000    21.945000\n",
      "50%       4.000000    77.295000\n",
      "75%       9.000000   170.065000\n",
      "max      10.000000  1788.280000\n"
     ]
    }
   ],
   "source": [
    "# Import visit logs data, converting category type and datetime types\n",
    "visit_logs = pd.read_csv('/datasets/visits_log_us.csv', dtype={'Device':'category'},parse_dates=['Start Ts','End Ts'])\n",
    "print(visit_logs.info())\n",
    "print(visit_logs.describe())\n",
    "\n",
    "# Import order logs data, converting datetime types\n",
    "order_logs = pd.read_csv('/datasets/orders_log_us.csv',parse_dates=['Buy Ts'])\n",
    "print(order_logs.info())\n",
    "print(order_logs.describe())\n",
    "\n",
    "# Import costs data, converting datetime types\n",
    "cost = pd.read_csv('/datasets/costs_us.csv',parse_dates=['dt'])\n",
    "print(cost.info())\n",
    "print(cost.describe())"
   ]
  },
  {
   "cell_type": "markdown",
   "metadata": {},
   "source": [
    "Store the data on visits, orders, and expenses in variables and optimize variable types. The visit_logs table contains columns device, end ts, start ts, source id and uid. The order_logs table contains colums buy ts, revenue and uid. The cost table contains columns source id, dt, cost."
   ]
  },
  {
   "cell_type": "markdown",
   "metadata": {},
   "source": [
    "## Data Preprocessing"
   ]
  },
  {
   "cell_type": "code",
   "execution_count": 3,
   "metadata": {},
   "outputs": [
    {
     "data": {
      "text/html": [
       "<div>\n",
       "<style scoped>\n",
       "    .dataframe tbody tr th:only-of-type {\n",
       "        vertical-align: middle;\n",
       "    }\n",
       "\n",
       "    .dataframe tbody tr th {\n",
       "        vertical-align: top;\n",
       "    }\n",
       "\n",
       "    .dataframe thead th {\n",
       "        text-align: right;\n",
       "    }\n",
       "</style>\n",
       "<table border=\"1\" class=\"dataframe\">\n",
       "  <thead>\n",
       "    <tr style=\"text-align: right;\">\n",
       "      <th></th>\n",
       "      <th>device_type</th>\n",
       "      <th>session_end</th>\n",
       "      <th>source_id</th>\n",
       "      <th>session_start</th>\n",
       "      <th>user_id</th>\n",
       "    </tr>\n",
       "  </thead>\n",
       "  <tbody>\n",
       "    <tr>\n",
       "      <td>0</td>\n",
       "      <td>touch</td>\n",
       "      <td>2017-12-20 17:38:00</td>\n",
       "      <td>4</td>\n",
       "      <td>2017-12-20 17:20:00</td>\n",
       "      <td>16879256277535980062</td>\n",
       "    </tr>\n",
       "    <tr>\n",
       "      <td>1</td>\n",
       "      <td>desktop</td>\n",
       "      <td>2018-02-19 17:21:00</td>\n",
       "      <td>2</td>\n",
       "      <td>2018-02-19 16:53:00</td>\n",
       "      <td>104060357244891740</td>\n",
       "    </tr>\n",
       "    <tr>\n",
       "      <td>2</td>\n",
       "      <td>touch</td>\n",
       "      <td>2017-07-01 01:54:00</td>\n",
       "      <td>5</td>\n",
       "      <td>2017-07-01 01:54:00</td>\n",
       "      <td>7459035603376831527</td>\n",
       "    </tr>\n",
       "    <tr>\n",
       "      <td>3</td>\n",
       "      <td>desktop</td>\n",
       "      <td>2018-05-20 11:23:00</td>\n",
       "      <td>9</td>\n",
       "      <td>2018-05-20 10:59:00</td>\n",
       "      <td>16174680259334210214</td>\n",
       "    </tr>\n",
       "    <tr>\n",
       "      <td>4</td>\n",
       "      <td>desktop</td>\n",
       "      <td>2017-12-27 14:06:00</td>\n",
       "      <td>3</td>\n",
       "      <td>2017-12-27 14:06:00</td>\n",
       "      <td>9969694820036681168</td>\n",
       "    </tr>\n",
       "  </tbody>\n",
       "</table>\n",
       "</div>"
      ],
      "text/plain": [
       "  device_type         session_end  source_id       session_start  \\\n",
       "0       touch 2017-12-20 17:38:00          4 2017-12-20 17:20:00   \n",
       "1     desktop 2018-02-19 17:21:00          2 2018-02-19 16:53:00   \n",
       "2       touch 2017-07-01 01:54:00          5 2017-07-01 01:54:00   \n",
       "3     desktop 2018-05-20 11:23:00          9 2018-05-20 10:59:00   \n",
       "4     desktop 2017-12-27 14:06:00          3 2017-12-27 14:06:00   \n",
       "\n",
       "                user_id  \n",
       "0  16879256277535980062  \n",
       "1    104060357244891740  \n",
       "2   7459035603376831527  \n",
       "3  16174680259334210214  \n",
       "4   9969694820036681168  "
      ]
     },
     "metadata": {},
     "output_type": "display_data"
    },
    {
     "data": {
      "text/html": [
       "<div>\n",
       "<style scoped>\n",
       "    .dataframe tbody tr th:only-of-type {\n",
       "        vertical-align: middle;\n",
       "    }\n",
       "\n",
       "    .dataframe tbody tr th {\n",
       "        vertical-align: top;\n",
       "    }\n",
       "\n",
       "    .dataframe thead th {\n",
       "        text-align: right;\n",
       "    }\n",
       "</style>\n",
       "<table border=\"1\" class=\"dataframe\">\n",
       "  <thead>\n",
       "    <tr style=\"text-align: right;\">\n",
       "      <th></th>\n",
       "      <th>order_datetime</th>\n",
       "      <th>revenue</th>\n",
       "      <th>user_id</th>\n",
       "    </tr>\n",
       "  </thead>\n",
       "  <tbody>\n",
       "    <tr>\n",
       "      <td>0</td>\n",
       "      <td>2017-06-01 00:10:00</td>\n",
       "      <td>17.00</td>\n",
       "      <td>10329302124590727494</td>\n",
       "    </tr>\n",
       "    <tr>\n",
       "      <td>1</td>\n",
       "      <td>2017-06-01 00:25:00</td>\n",
       "      <td>0.55</td>\n",
       "      <td>11627257723692907447</td>\n",
       "    </tr>\n",
       "    <tr>\n",
       "      <td>2</td>\n",
       "      <td>2017-06-01 00:27:00</td>\n",
       "      <td>0.37</td>\n",
       "      <td>17903680561304213844</td>\n",
       "    </tr>\n",
       "    <tr>\n",
       "      <td>3</td>\n",
       "      <td>2017-06-01 00:29:00</td>\n",
       "      <td>0.55</td>\n",
       "      <td>16109239769442553005</td>\n",
       "    </tr>\n",
       "    <tr>\n",
       "      <td>4</td>\n",
       "      <td>2017-06-01 07:58:00</td>\n",
       "      <td>0.37</td>\n",
       "      <td>14200605875248379450</td>\n",
       "    </tr>\n",
       "  </tbody>\n",
       "</table>\n",
       "</div>"
      ],
      "text/plain": [
       "       order_datetime  revenue               user_id\n",
       "0 2017-06-01 00:10:00    17.00  10329302124590727494\n",
       "1 2017-06-01 00:25:00     0.55  11627257723692907447\n",
       "2 2017-06-01 00:27:00     0.37  17903680561304213844\n",
       "3 2017-06-01 00:29:00     0.55  16109239769442553005\n",
       "4 2017-06-01 07:58:00     0.37  14200605875248379450"
      ]
     },
     "metadata": {},
     "output_type": "display_data"
    },
    {
     "data": {
      "text/html": [
       "<div>\n",
       "<style scoped>\n",
       "    .dataframe tbody tr th:only-of-type {\n",
       "        vertical-align: middle;\n",
       "    }\n",
       "\n",
       "    .dataframe tbody tr th {\n",
       "        vertical-align: top;\n",
       "    }\n",
       "\n",
       "    .dataframe thead th {\n",
       "        text-align: right;\n",
       "    }\n",
       "</style>\n",
       "<table border=\"1\" class=\"dataframe\">\n",
       "  <thead>\n",
       "    <tr style=\"text-align: right;\">\n",
       "      <th></th>\n",
       "      <th>source_id</th>\n",
       "      <th>ad_datetime</th>\n",
       "      <th>ad_expenses</th>\n",
       "    </tr>\n",
       "  </thead>\n",
       "  <tbody>\n",
       "    <tr>\n",
       "      <td>0</td>\n",
       "      <td>1</td>\n",
       "      <td>2017-06-01</td>\n",
       "      <td>75.20</td>\n",
       "    </tr>\n",
       "    <tr>\n",
       "      <td>1</td>\n",
       "      <td>1</td>\n",
       "      <td>2017-06-02</td>\n",
       "      <td>62.25</td>\n",
       "    </tr>\n",
       "    <tr>\n",
       "      <td>2</td>\n",
       "      <td>1</td>\n",
       "      <td>2017-06-03</td>\n",
       "      <td>36.53</td>\n",
       "    </tr>\n",
       "    <tr>\n",
       "      <td>3</td>\n",
       "      <td>1</td>\n",
       "      <td>2017-06-04</td>\n",
       "      <td>55.00</td>\n",
       "    </tr>\n",
       "    <tr>\n",
       "      <td>4</td>\n",
       "      <td>1</td>\n",
       "      <td>2017-06-05</td>\n",
       "      <td>57.08</td>\n",
       "    </tr>\n",
       "  </tbody>\n",
       "</table>\n",
       "</div>"
      ],
      "text/plain": [
       "   source_id ad_datetime  ad_expenses\n",
       "0          1  2017-06-01        75.20\n",
       "1          1  2017-06-02        62.25\n",
       "2          1  2017-06-03        36.53\n",
       "3          1  2017-06-04        55.00\n",
       "4          1  2017-06-05        57.08"
      ]
     },
     "metadata": {},
     "output_type": "display_data"
    }
   ],
   "source": [
    "# Modify visit_logs column names\n",
    "visit_logs = visit_logs.rename(columns={\"Device\": \"device_type\", \"End Ts\":\"session_end\", \"Start Ts\":\"session_start\", \"Source Id\":\"source_id\",\"Uid\":\"user_id\"})\n",
    "\n",
    "# Drop duplicates\n",
    "visit_logs = visit_logs.drop_duplicates().reset_index(drop=True)\n",
    "\n",
    "display(visit_logs.head())\n",
    "\n",
    "# Modify order_logs column names\n",
    "order_logs = order_logs.rename(columns={\"Buy Ts\":\"order_datetime\", \"Revenue\":\"revenue\",\"Uid\":\"user_id\"})\n",
    "\n",
    "# Drop duplicates\n",
    "order_logs = order_logs.drop_duplicates().reset_index(drop=True)\n",
    "\n",
    "display(order_logs.head())\n",
    "\n",
    "# Modify cost column names\n",
    "cost = cost.rename(columns={\"dt\":\"ad_datetime\",\"costs\":\"ad_expenses\"})\n",
    "\n",
    "# Drop duplicates\n",
    "cost = cost.drop_duplicates().reset_index(drop=True)\n",
    "\n",
    "display(cost.head())\n"
   ]
  },
  {
   "cell_type": "markdown",
   "metadata": {},
   "source": [
    "Modify and preprocess all tables by modifying column anmes to be more intuitive and drop any duplicates."
   ]
  },
  {
   "cell_type": "markdown",
   "metadata": {},
   "source": [
    "### Remove outliers"
   ]
  },
  {
   "cell_type": "code",
   "execution_count": 4,
   "metadata": {},
   "outputs": [],
   "source": [
    "# # Drop rows where session_start = session_end \n",
    "# outlierIndex = visit_logs[(visit_logs['session_start'] == visit_logs['session_end'])].index\n",
    "# visit_logs.drop(outlierIndex, inplace=True)\n",
    "# display(visit_logs)\n",
    "\n",
    "# # Drop outliers in order_logs DF where revenue is -2sigma <= and >= 2sigma \n",
    "# ad_expenses_mean, ad_expenses_std = order_logs['revenue'].mean(), order_logs['revenue'].std()\n",
    "# cut_off = ad_expenses_std #*2\n",
    "# outlierIndex = order_logs[(order_logs['revenue'] <= ad_expenses_mean + cut_off) &  (ad_expenses_mean - cut_off <= order_logs['revenue'])].index\n",
    "# order_logs.drop(outlierIndex, inplace=True)\n",
    "# display(order_logs)\n",
    "\n",
    "# # Drop outliers in cost DF where the ad_expenses is -2sigma <= and >= 2sigma \n",
    "# ad_expenses_mean, ad_expenses_std = cost['ad_expenses'].mean(), cost['ad_expenses'].std()\n",
    "# cut_off = ad_expenses_std #*2\n",
    "# outlierIndex = cost[(cost['ad_expenses'] <= ad_expenses_mean + cut_off) &  (ad_expenses_mean - cut_off <= cost['ad_expenses'])].index\n",
    "# cost.drop(outlierIndex, inplace=True)\n",
    "# display(cost)"
   ]
  },
  {
   "cell_type": "markdown",
   "metadata": {},
   "source": [
    "Remove any and all outliers where: session start datetime is the same as session end datetime, the revenue is out of the +/- 2 sigma range and the ad costs is out of the +/- 2 sigma range. "
   ]
  },
  {
   "cell_type": "markdown",
   "metadata": {},
   "source": [
    "## Product evaluation of Yandex.Afisha"
   ]
  },
  {
   "cell_type": "markdown",
   "metadata": {},
   "source": [
    "### How many people use it every day, week and month?"
   ]
  },
  {
   "cell_type": "code",
   "execution_count": 5,
   "metadata": {},
   "outputs": [
    {
     "name": "stdout",
     "output_type": "stream",
     "text": [
      "Daily Total Usage: 907.99 users\n",
      "Weekly Total Usage: 5825.29 users\n",
      "Monthly Total Usage: 23228.42 users\n"
     ]
    }
   ],
   "source": [
    "# How many people use it every day, week and month?\n",
    "\n",
    "# Create product usage from visit logs table\n",
    "product_usage = visit_logs.copy()\n",
    "\n",
    "# Separate columsn for day, week, month values\n",
    "product_usage['session_date'] = product_usage['session_start'].dt.date\n",
    "product_usage['session_week'] = product_usage['session_start'].dt.week\n",
    "product_usage['session_month'] = product_usage['session_start'].dt.month\n",
    "product_usage['session_year'] = product_usage['session_start'].dt.year\n",
    "\n",
    "# Calculate DAU: number of daily active unique users\n",
    "dau_total = product_usage.groupby('session_date').agg({\"user_id\":\"nunique\"}).reset_index()\n",
    "dau_total.columns = ['session_date', 'n_users']\n",
    "dau_avg = dau_total['n_users'].mean()\n",
    "print(\"Daily Total Usage: \" + str((dau_avg.round(decimals=2))) + \" users\")\n",
    "\n",
    "# Calculate WAU: number of weekly active unique users\n",
    "wau_total = product_usage.groupby('session_week').agg({\"user_id\":\"nunique\"}).reset_index()\n",
    "wau_total.columns = ['session_week', 'n_users']\n",
    "wau_avg = wau_total['n_users'].mean()\n",
    "print(\"Weekly Total Usage: \" + str((wau_avg.round(decimals=2))) + \" users\")\n",
    "\n",
    "# Calculate DAU: number of monthly active unique users\n",
    "mau_total = product_usage.groupby('session_month').agg({\"user_id\":\"nunique\"}).reset_index()\n",
    "mau_total.columns = ['session_month', 'n_users']\n",
    "mau_avg = mau_total['n_users'].mean()\n",
    "print(\"Monthly Total Usage: \" + str((mau_avg.round(decimals=2))) + \" users\")"
   ]
  },
  {
   "cell_type": "code",
   "execution_count": 6,
   "metadata": {},
   "outputs": [
    {
     "data": {
      "text/plain": [
       "Text(0, 0.5, '# of Active Users')"
      ]
     },
     "execution_count": 6,
     "metadata": {},
     "output_type": "execute_result"
    },
    {
     "data": {
      "image/png": "[encoded data removed]",
      "text/plain": [
       "<Figure size 576x432 with 1 Axes>"
      ]
     },
     "metadata": {
      "needs_background": "light"
     },
     "output_type": "display_data"
    },
    {
     "data": {
      "image/png": "[encoded data removed]",
      "text/plain": [
       "<Figure size 576x432 with 1 Axes>"
      ]
     },
     "metadata": {
      "needs_background": "light"
     },
     "output_type": "display_data"
    },
    {
     "data": {
      "image/png": "[encoded data removed]",
      "text/plain": [
       "<Figure size 576x432 with 1 Axes>"
      ]
     },
     "metadata": {
      "needs_background": "light"
     },
     "output_type": "display_data"
    }
   ],
   "source": [
    "# plot daily active users\n",
    "plt.figure(figsize=(8,6))\n",
    "plt.plot(dau_total['session_date'],dau_total['n_users'])\n",
    "plt.title('Daily Number of Active Users')\n",
    "plt.xlabel('Dates')\n",
    "plt.ylabel('# of Active Users')\n",
    "\n",
    "# plot weekly active users\n",
    "plt.figure(figsize=(8,6))\n",
    "plt.plot(wau_total['session_week'],wau_total['n_users'])\n",
    "plt.title('Weekly Number of Active Users')\n",
    "plt.xlabel('Dates')\n",
    "plt.ylabel('# of Active Users')\n",
    "\n",
    "# plot monthly active users\n",
    "plt.figure(figsize=(8,6))\n",
    "plt.plot(mau_total['session_month'],mau_total['n_users'])\n",
    "plt.title('Monthly Number of Active Users')\n",
    "plt.xlabel('Dates')\n",
    "plt.ylabel('# of Active Users')\n"
   ]
  },
  {
   "cell_type": "markdown",
   "metadata": {},
   "source": [
    "### How many sessions are there per day? "
   ]
  },
  {
   "cell_type": "code",
   "execution_count": 7,
   "metadata": {},
   "outputs": [
    {
     "name": "stdout",
     "output_type": "stream",
     "text": [
      "There are 987.36 sessions per day\n"
     ]
    },
    {
     "data": {
      "text/plain": [
       "Text(0, 0.5, '# of Sessions')"
      ]
     },
     "execution_count": 7,
     "metadata": {},
     "output_type": "execute_result"
    },
    {
     "data": {
      "image/png": "[encoded data removed]",
      "text/plain": [
       "<Figure size 576x432 with 1 Axes>"
      ]
     },
     "metadata": {
      "needs_background": "light"
     },
     "output_type": "display_data"
    }
   ],
   "source": [
    "# How many sessions are there per day? (One user might have more than one session.)\n",
    "\n",
    "# group the visit data by session date and then count the # of unqiue users and # of unique sessions\n",
    "sessions_per_day = product_usage.groupby('session_date').agg({'user_id':['count','nunique']}).reset_index()\n",
    "sessions_per_day.columns = ['session_date','n_sessions','n_users']\n",
    "sessions_per_day_amount = sessions_per_day['n_sessions'].mean()\n",
    "print('There are ' + str(sessions_per_day_amount.round(decimals=2)) + \" sessions per day\")\n",
    "\n",
    "#  Plot sessions per day\n",
    "plt.figure(figsize=(8,6))\n",
    "plt.plot(pd.to_datetime(sessions_per_day['session_date']),sessions_per_day['n_sessions'])\n",
    "plt.title('Sessions per Day')\n",
    "plt.xlabel('Dates')\n",
    "plt.ylabel('# of Sessions')"
   ]
  },
  {
   "cell_type": "markdown",
   "metadata": {},
   "source": [
    "To calculate the average number of unique sessions there on any given day, the visit data can be grouped by the date of the session and count the number of unique users and the number of unique sessions. \n",
    "\n",
    "There is an average of 987.36 sessions per day for Yandex.Afisha."
   ]
  },
  {
   "cell_type": "markdown",
   "metadata": {},
   "source": [
    "### What is the length of each session?"
   ]
  },
  {
   "cell_type": "code",
   "execution_count": 8,
   "metadata": {},
   "outputs": [
    {
     "name": "stdout",
     "output_type": "stream",
     "text": [
      " The average length per session is 300.0 seconds\n"
     ]
    },
    {
     "data": {
      "text/plain": [
       "Text(0, 0.5, '# of Sessions')"
      ]
     },
     "execution_count": 8,
     "metadata": {},
     "output_type": "execute_result"
    },
    {
     "data": {
      "image/png": "[encoded data removed]",
      "text/plain": [
       "<Figure size 432x288 with 1 Axes>"
      ]
     },
     "metadata": {
      "needs_background": "light"
     },
     "output_type": "display_data"
    }
   ],
   "source": [
    "# What is the length of each session?\n",
    "\n",
    "# calculate the duration of a session(session_end - session_start)\n",
    "product_usage['session_duration_sec'] = (product_usage['session_end'] - product_usage['session_start']).dt.seconds\n",
    "\n",
    "# calculate the average duration\n",
    "average_length_per_session = product_usage['session_duration_sec'].median()\n",
    "print(\" The average length per session is \" + str(average_length_per_session.round(decimals=2)) + \" seconds\")\n",
    "\n",
    "plt.hist(product_usage['session_duration_sec'],range=[0,2000],bins=50)\n",
    "plt.title('Session Length')\n",
    "plt.xlabel('Length (secs)')\n",
    "plt.ylabel('# of Sessions')"
   ]
  },
  {
   "cell_type": "markdown",
   "metadata": {},
   "source": [
    "To calculate the average length of each session, we can examine every row in the visit dataframe and find the difference between the datetime of the end of a session and the datetime of the start of a session. \n",
    "\n",
    "The average length of each session is 300  seconds (5 mins). "
   ]
  },
  {
   "cell_type": "markdown",
   "metadata": {},
   "source": [
    "### How often do users come back?"
   ]
  },
  {
   "cell_type": "code",
   "execution_count": 9,
   "metadata": {},
   "outputs": [
    {
     "name": "stdout",
     "output_type": "stream",
     "text": [
      "15.59% of users on average come back weekly\n",
      "3.91% of users on average come back monthly\n"
     ]
    },
    {
     "data": {
      "text/plain": [
       "Text(0, 0.5, '% of returning users')"
      ]
     },
     "execution_count": 9,
     "metadata": {},
     "output_type": "execute_result"
    },
    {
     "data": {
      "image/png": "[encoded data removed]",
      "text/plain": [
       "<Figure size 576x432 with 1 Axes>"
      ]
     },
     "metadata": {
      "needs_background": "light"
     },
     "output_type": "display_data"
    },
    {
     "data": {
      "image/png": "[encoded data removed]",
      "text/plain": [
       "<Figure size 576x432 with 1 Axes>"
      ]
     },
     "metadata": {
      "needs_background": "light"
     },
     "output_type": "display_data"
    }
   ],
   "source": [
    "# How often do users come back?\n",
    "\n",
    "# calculate sticky factor metrics\n",
    "sticky_weekly_avg = (dau_avg / wau_avg) * 100\n",
    "print(str(sticky_weekly_avg.round(decimals=2)) + \"% of users on average come back weekly\")\n",
    "\n",
    "sticky_monthly_avg = (dau_avg / mau_avg) * 100\n",
    "print(str(sticky_monthly_avg.round(decimals=2)) + \"% of users on average come back monthly\")\n",
    "\n",
    "# graph sticky factor metrics \n",
    "wau_total['sticky_weekly'] = (dau_avg / wau_total['n_users']) * 100\n",
    "plt.figure(figsize=(8,6))\n",
    "plt.plot(wau_total['session_week'],wau_total['sticky_weekly'])\n",
    "plt.title('% of users that come back weekly')\n",
    "plt.xlabel('Weeks')\n",
    "plt.ylabel('% of returning users')\n",
    "\n",
    "mau_total['sticky_monthly'] = (dau_avg / mau_total['n_users']) * 100\n",
    "plt.figure(figsize=(8,6))\n",
    "plt.plot(mau_total['session_month'],mau_total['sticky_monthly'])\n",
    "plt.title('% of users that come back monthly')\n",
    "plt.xlabel('Months')\n",
    "plt.ylabel('% of returning users')"
   ]
  },
  {
   "cell_type": "markdown",
   "metadata": {},
   "source": [
    "To calculate how often users come back, we can calculate the stick factor metrics in terms of weeks and months. This is found by dividing the # of daily active users by the # of weekly active users (to find the number of times users come back weekly) and dividing the # of daily active users by the # of monthly active users (to find the number of times users come back monehtly).\n",
    "\n",
    "Almost 16% of users come back weekly and 4% of users come back monthly. "
   ]
  },
  {
   "cell_type": "markdown",
   "metadata": {},
   "source": [
    "## Sales Evaluation for Yandex.Afisha"
   ]
  },
  {
   "cell_type": "markdown",
   "metadata": {},
   "source": [
    "### When do people start buying?"
   ]
  },
  {
   "cell_type": "code",
   "execution_count": 10,
   "metadata": {},
   "outputs": [
    {
     "data": {
      "text/html": [
       "<div>\n",
       "<style scoped>\n",
       "    .dataframe tbody tr th:only-of-type {\n",
       "        vertical-align: middle;\n",
       "    }\n",
       "\n",
       "    .dataframe tbody tr th {\n",
       "        vertical-align: top;\n",
       "    }\n",
       "\n",
       "    .dataframe thead th {\n",
       "        text-align: right;\n",
       "    }\n",
       "</style>\n",
       "<table border=\"1\" class=\"dataframe\">\n",
       "  <thead>\n",
       "    <tr style=\"text-align: right;\">\n",
       "      <th></th>\n",
       "      <th>user_id</th>\n",
       "      <th>first_session_date</th>\n",
       "      <th>first_session_month</th>\n",
       "      <th>first_order_date</th>\n",
       "      <th>first_order_month</th>\n",
       "      <th>turnover_time_days</th>\n",
       "    </tr>\n",
       "  </thead>\n",
       "  <tbody>\n",
       "    <tr>\n",
       "      <td>0</td>\n",
       "      <td>313578113262317</td>\n",
       "      <td>2017-09-18 22:49:00</td>\n",
       "      <td>9</td>\n",
       "      <td>2018-01-03 21:51:00</td>\n",
       "      <td>1</td>\n",
       "      <td>106</td>\n",
       "    </tr>\n",
       "    <tr>\n",
       "      <td>1</td>\n",
       "      <td>1575281904278712</td>\n",
       "      <td>2017-06-03 10:13:00</td>\n",
       "      <td>6</td>\n",
       "      <td>2017-06-03 10:13:00</td>\n",
       "      <td>6</td>\n",
       "      <td>0</td>\n",
       "    </tr>\n",
       "    <tr>\n",
       "      <td>2</td>\n",
       "      <td>2429014661409475</td>\n",
       "      <td>2017-10-11 17:14:00</td>\n",
       "      <td>10</td>\n",
       "      <td>2017-10-11 18:33:00</td>\n",
       "      <td>10</td>\n",
       "      <td>0</td>\n",
       "    </tr>\n",
       "    <tr>\n",
       "      <td>3</td>\n",
       "      <td>2464366381792757</td>\n",
       "      <td>2018-01-27 20:10:00</td>\n",
       "      <td>1</td>\n",
       "      <td>2018-01-28 15:54:00</td>\n",
       "      <td>1</td>\n",
       "      <td>0</td>\n",
       "    </tr>\n",
       "    <tr>\n",
       "      <td>4</td>\n",
       "      <td>2551852515556206</td>\n",
       "      <td>2017-11-24 10:14:00</td>\n",
       "      <td>11</td>\n",
       "      <td>2017-11-24 10:14:00</td>\n",
       "      <td>11</td>\n",
       "      <td>0</td>\n",
       "    </tr>\n",
       "    <tr>\n",
       "      <td>...</td>\n",
       "      <td>...</td>\n",
       "      <td>...</td>\n",
       "      <td>...</td>\n",
       "      <td>...</td>\n",
       "      <td>...</td>\n",
       "      <td>...</td>\n",
       "    </tr>\n",
       "    <tr>\n",
       "      <td>36518</td>\n",
       "      <td>18445147675727495770</td>\n",
       "      <td>2017-08-20 13:30:00</td>\n",
       "      <td>8</td>\n",
       "      <td>2017-11-24 09:03:00</td>\n",
       "      <td>11</td>\n",
       "      <td>95</td>\n",
       "    </tr>\n",
       "    <tr>\n",
       "      <td>36519</td>\n",
       "      <td>18445407535914413204</td>\n",
       "      <td>2017-09-22 23:48:00</td>\n",
       "      <td>9</td>\n",
       "      <td>2017-09-22 23:55:00</td>\n",
       "      <td>9</td>\n",
       "      <td>0</td>\n",
       "    </tr>\n",
       "    <tr>\n",
       "      <td>36520</td>\n",
       "      <td>18445601152732270159</td>\n",
       "      <td>2017-08-07 11:51:00</td>\n",
       "      <td>8</td>\n",
       "      <td>2018-03-26 22:54:00</td>\n",
       "      <td>3</td>\n",
       "      <td>231</td>\n",
       "    </tr>\n",
       "    <tr>\n",
       "      <td>36521</td>\n",
       "      <td>18446156210226471712</td>\n",
       "      <td>2017-11-07 10:01:00</td>\n",
       "      <td>11</td>\n",
       "      <td>2018-02-18 19:34:00</td>\n",
       "      <td>2</td>\n",
       "      <td>103</td>\n",
       "    </tr>\n",
       "    <tr>\n",
       "      <td>36522</td>\n",
       "      <td>18446167067214817906</td>\n",
       "      <td>2017-10-17 10:05:00</td>\n",
       "      <td>10</td>\n",
       "      <td>2017-10-17 10:16:00</td>\n",
       "      <td>10</td>\n",
       "      <td>0</td>\n",
       "    </tr>\n",
       "  </tbody>\n",
       "</table>\n",
       "<p>36523 rows × 6 columns</p>\n",
       "</div>"
      ],
      "text/plain": [
       "                    user_id  first_session_date  first_session_month  \\\n",
       "0           313578113262317 2017-09-18 22:49:00                    9   \n",
       "1          1575281904278712 2017-06-03 10:13:00                    6   \n",
       "2          2429014661409475 2017-10-11 17:14:00                   10   \n",
       "3          2464366381792757 2018-01-27 20:10:00                    1   \n",
       "4          2551852515556206 2017-11-24 10:14:00                   11   \n",
       "...                     ...                 ...                  ...   \n",
       "36518  18445147675727495770 2017-08-20 13:30:00                    8   \n",
       "36519  18445407535914413204 2017-09-22 23:48:00                    9   \n",
       "36520  18445601152732270159 2017-08-07 11:51:00                    8   \n",
       "36521  18446156210226471712 2017-11-07 10:01:00                   11   \n",
       "36522  18446167067214817906 2017-10-17 10:05:00                   10   \n",
       "\n",
       "         first_order_date  first_order_month  turnover_time_days  \n",
       "0     2018-01-03 21:51:00                  1                 106  \n",
       "1     2017-06-03 10:13:00                  6                   0  \n",
       "2     2017-10-11 18:33:00                 10                   0  \n",
       "3     2018-01-28 15:54:00                  1                   0  \n",
       "4     2017-11-24 10:14:00                 11                   0  \n",
       "...                   ...                ...                 ...  \n",
       "36518 2017-11-24 09:03:00                 11                  95  \n",
       "36519 2017-09-22 23:55:00                  9                   0  \n",
       "36520 2018-03-26 22:54:00                  3                 231  \n",
       "36521 2018-02-18 19:34:00                  2                 103  \n",
       "36522 2017-10-17 10:16:00                 10                   0  \n",
       "\n",
       "[36523 rows x 6 columns]"
      ]
     },
     "metadata": {},
     "output_type": "display_data"
    },
    {
     "name": "stdout",
     "output_type": "stream",
     "text": [
      "People start buying 16.73 days after first registering\n"
     ]
    }
   ],
   "source": [
    "# When do people start buying?\n",
    "\n",
    "# for each user, find date of first order\n",
    "first_order_dates = order_logs.groupby('user_id').agg({'order_datetime':'min'}).reset_index()\n",
    "first_order_dates.columns= ['user_id','first_order_date']\n",
    "first_order_dates['first_order_month'] = first_order_dates['first_order_date'].dt.month\n",
    "\n",
    "# for each user, find date of first session\n",
    "first_session_dates = visit_logs.groupby('user_id').agg({'session_start':'min'}).reset_index()\n",
    "first_session_dates.columns= ['user_id','first_session_date']\n",
    "first_session_dates['first_session_month'] = first_session_dates['first_session_date'].dt.month\n",
    "\n",
    "# merge tables on user_id\n",
    "turnover = pd.merge(first_session_dates, first_order_dates, on='user_id')\n",
    "\n",
    "# calculate time between first session and first order\n",
    "turnover['turnover_time_days'] = (turnover['first_order_date'] - turnover['first_session_date']).dt.days\n",
    "display(turnover)\n",
    "\n",
    "avg_turnover_time = turnover['turnover_time_days'].mean()\n",
    "print('People start buying ' + str(avg_turnover_time.round(decimals=2)) +\" days after first registering\")"
   ]
  },
  {
   "cell_type": "markdown",
   "metadata": {},
   "source": [
    "<div class=\"alert alert-danger\">\n",
    "<s><b>Needs fixing:</b> Please, check your calculations, most of the users start to buy during their first session.m\n",
    "</div>"
   ]
  },
  {
   "cell_type": "markdown",
   "metadata": {},
   "source": [
    "<div class=\"alert alert-info\"> <b> i can't figure out what's going wrong in my calculations - i'm finding the first session date (assume that the minimum date in visits table is the date of registration/first visit)  and the first order date - then i'm subtracting the difference to see how many days is between the first session and the first order. what am i supposed ot be doing differently? </b></div>"
   ]
  },
  {
   "cell_type": "markdown",
   "metadata": {},
   "source": [
    "<div class=\"alert alert-success\">\n",
    "<b>Success:</b> Sorry, my previous need fixing was based on damaged data, now it's okay.\n",
    "</div>"
   ]
  },
  {
   "cell_type": "code",
   "execution_count": 11,
   "metadata": {},
   "outputs": [],
   "source": [
    "# categorize cohorts by turnover time \n",
    "bins = [-2, 5, 10, 20, 30, 90, 180, 400]\n",
    "labels = ['0-5d','5-10d','10-20d','20-30d','30-90d','90-180d','>180d']\n",
    "turnover['turnover_cohort'] = pd.cut(x=turnover['turnover_time_days'], bins=bins, labels=labels)"
   ]
  },
  {
   "cell_type": "markdown",
   "metadata": {},
   "source": [
    "To discover when people start buying, we can find the date of the first visit/session and first order for each user. By subtracting the date of the first visit from the date of the first order, we can find how long after the first visit the user made an order and purchased the product. We can find the average turnover time with the mean. \n",
    "\n",
    "The average turnover time for users from the first visit to the first order for Yandex.Afisha is about 16 days. "
   ]
  },
  {
   "cell_type": "code",
   "execution_count": 12,
   "metadata": {},
   "outputs": [
    {
     "data": {
      "text/html": [
       "<div>\n",
       "<style scoped>\n",
       "    .dataframe tbody tr th:only-of-type {\n",
       "        vertical-align: middle;\n",
       "    }\n",
       "\n",
       "    .dataframe tbody tr th {\n",
       "        vertical-align: top;\n",
       "    }\n",
       "\n",
       "    .dataframe thead th {\n",
       "        text-align: right;\n",
       "    }\n",
       "</style>\n",
       "<table border=\"1\" class=\"dataframe\">\n",
       "  <thead>\n",
       "    <tr style=\"text-align: right;\">\n",
       "      <th></th>\n",
       "      <th>turnover_cohort</th>\n",
       "      <th>n_users</th>\n",
       "      <th>users %</th>\n",
       "    </tr>\n",
       "  </thead>\n",
       "  <tbody>\n",
       "    <tr>\n",
       "      <td>0</td>\n",
       "      <td>0-5d</td>\n",
       "      <td>28965</td>\n",
       "      <td>79.306191</td>\n",
       "    </tr>\n",
       "    <tr>\n",
       "      <td>1</td>\n",
       "      <td>5-10d</td>\n",
       "      <td>947</td>\n",
       "      <td>2.592887</td>\n",
       "    </tr>\n",
       "    <tr>\n",
       "      <td>2</td>\n",
       "      <td>10-20d</td>\n",
       "      <td>1039</td>\n",
       "      <td>2.844783</td>\n",
       "    </tr>\n",
       "    <tr>\n",
       "      <td>3</td>\n",
       "      <td>20-30d</td>\n",
       "      <td>670</td>\n",
       "      <td>1.834460</td>\n",
       "    </tr>\n",
       "    <tr>\n",
       "      <td>4</td>\n",
       "      <td>30-90d</td>\n",
       "      <td>2274</td>\n",
       "      <td>6.226214</td>\n",
       "    </tr>\n",
       "    <tr>\n",
       "      <td>5</td>\n",
       "      <td>90-180d</td>\n",
       "      <td>1748</td>\n",
       "      <td>4.786025</td>\n",
       "    </tr>\n",
       "    <tr>\n",
       "      <td>6</td>\n",
       "      <td>&gt;180d</td>\n",
       "      <td>880</td>\n",
       "      <td>2.409441</td>\n",
       "    </tr>\n",
       "  </tbody>\n",
       "</table>\n",
       "</div>"
      ],
      "text/plain": [
       "  turnover_cohort  n_users    users %\n",
       "0            0-5d    28965  79.306191\n",
       "1           5-10d      947   2.592887\n",
       "2          10-20d     1039   2.844783\n",
       "3          20-30d      670   1.834460\n",
       "4          30-90d     2274   6.226214\n",
       "5         90-180d     1748   4.786025\n",
       "6           >180d      880   2.409441"
      ]
     },
     "metadata": {},
     "output_type": "display_data"
    }
   ],
   "source": [
    "# how many users in each cohort\n",
    "users_per_cohort = turnover.groupby('turnover_cohort')['user_id'].nunique().reset_index()\n",
    "users_per_cohort.columns = ['turnover_cohort','n_users']\n",
    "\n",
    "# calculate % of users in each cohort\n",
    "total_users = users_per_cohort['n_users'].sum()\n",
    "users_per_cohort['users %'] = (users_per_cohort['n_users'] / total_users) * 100\n",
    "\n",
    "display(users_per_cohort)"
   ]
  },
  {
   "cell_type": "markdown",
   "metadata": {},
   "source": [
    "Most users start buying between 0 to 5 days after the first session at almost 80% of users but thereafter, the largest turnover cohort falls in the 3-6 month window at 6% of users. "
   ]
  },
  {
   "cell_type": "markdown",
   "metadata": {},
   "source": [
    "<div class=\"alert alert-warning\">\n",
    "<b>Remarks: </b> You can split your data in groups more easily and faster. Check this link:<br> <a>https://stackoverflow.com/questions/43500894/pandas-pd-cut-binning-datetime-column-series</a> <br>\n",
    "The difference in apply() and cut() method becomes crucial in large datasets and could be an hour or more.<br>\n",
    "    \n",
    "Please, don't mix functions with the other code in one cell.\n",
    " \n",
    "\n",
    "</div>"
   ]
  },
  {
   "cell_type": "markdown",
   "metadata": {},
   "source": [
    "<div class=\"alert alert-success\">\n",
    "<b>Success:</b> Great that you master it! 🤘\n",
    "</div>"
   ]
  },
  {
   "cell_type": "markdown",
   "metadata": {},
   "source": [
    "<div class=\"alert alert-danger\">\n",
    "<s><b>Needs fixing:</b> Please, check your calculations, turnover_time_days can't be negative.\n",
    "</div>"
   ]
  },
  {
   "cell_type": "markdown",
   "metadata": {},
   "source": [
    "<div class=\"alert alert-info\"> <b> Hi! The project instructor Anastasia said that turnover times of -1 days was okay but if yo say they aren't, does that mean I should cut them out? to calculate turnover, i'm subtracting the dqate of the first order from the date of the first session </b></div>"
   ]
  },
  {
   "cell_type": "markdown",
   "metadata": {},
   "source": [
    "<div class=\"alert alert-warning\">\n",
    "<b>Remarks: </b> Ok, let it be okay. \n",
    "</div>"
   ]
  },
  {
   "cell_type": "markdown",
   "metadata": {},
   "source": [
    "### How many orders do they make during a given period of time?"
   ]
  },
  {
   "cell_type": "code",
   "execution_count": 13,
   "metadata": {},
   "outputs": [
    {
     "name": "stdout",
     "output_type": "stream",
     "text": [
      "The average number of orders made in any given month is 1.22\n"
     ]
    }
   ],
   "source": [
    "# How many orders do they make during a given period of time? \n",
    "\n",
    "# extract order month for each order\n",
    "order_logs['order_month'] = order_logs['order_datetime'].astype('datetime64[M]').dt.month\n",
    "\n",
    "# group by order month and find # of unique users placing orders each month and find # of orders made each month\n",
    "unique_orders = order_logs.groupby('order_month').agg({'user_id':'nunique','order_datetime':'count'}).reset_index()\n",
    "unique_orders.columns = ['order_month','n_unique_users','n_orders']\n",
    "\n",
    "# create col with average monthly orders per month\n",
    "unique_orders['average_monthly_orders'] = unique_orders['n_orders'] / unique_orders['n_unique_users']\n",
    "\n",
    "# calculate average monthly purchases\n",
    "avg_monthly_purchases = unique_orders['average_monthly_orders'].mean().round(decimals=2)\n",
    "\n",
    "print('The average number of orders made in any given month is ' + str(avg_monthly_purchases))"
   ]
  },
  {
   "cell_type": "markdown",
   "metadata": {},
   "source": [
    "<div class=\"alert alert-warning\">\n",
    "<b>Remarks: </b> It should be a little less, but in general you are right. I think this value will fix automatically after you tun off your cleaning filters.\n",
    "</div>"
   ]
  },
  {
   "cell_type": "markdown",
   "metadata": {},
   "source": [
    "<div class=\"alert alert-success\">\n",
    "<b>Success:</b> Correct\n",
    "</div>"
   ]
  },
  {
   "cell_type": "markdown",
   "metadata": {},
   "source": [
    "To find how many orders do users make during a period of time, we can start by defining a period of time as a single month. Now the question becomes how many orders do users make during a months time? We can extract the month of each order from the datetime of the order, group the orders by the months, count the # of unique users ordering for each month, count the # of orders made each month and then find the average number of monthly orders by diving the # of orders with the # of unique users. \n",
    "\n",
    "The average number of orders made during a month for Yandex.Afisha is 1.22 orders."
   ]
  },
  {
   "cell_type": "markdown",
   "metadata": {},
   "source": [
    "### What is the average purchase size?"
   ]
  },
  {
   "cell_type": "code",
   "execution_count": 14,
   "metadata": {
    "scrolled": true
   },
   "outputs": [
    {
     "name": "stdout",
     "output_type": "stream",
     "text": [
      "The average purchase size is 5.0 dollars per purchase\n"
     ]
    }
   ],
   "source": [
    "# What is the average purchase size?\n",
    "\n",
    "avg_purchase_size = order_logs['revenue'].mean().round(decimals=2)\n",
    "print(\"The average purchase size is \" + str(avg_purchase_size) + \" dollars per purchase\")"
   ]
  },
  {
   "cell_type": "markdown",
   "metadata": {},
   "source": [
    "To find the average purchase size for each order, we can calculate the average of the revenue made from each order. \n",
    "\n",
    "The average purchase size for Yandex.Afisha is about $5 per purchase. "
   ]
  },
  {
   "cell_type": "markdown",
   "metadata": {},
   "source": [
    "<div class=\"alert alert-success\">\n",
    "<b>Success:</b> Correct\n",
    "</div>"
   ]
  },
  {
   "cell_type": "markdown",
   "metadata": {},
   "source": [
    "### How much money do they bring? (LTV)"
   ]
  },
  {
   "cell_type": "code",
   "execution_count": 15,
   "metadata": {},
   "outputs": [
    {
     "ename": "NameError",
     "evalue": "name 'cohort_report' is not defined",
     "output_type": "error",
     "traceback": [
      "\u001b[0;31m---------------------------------------------------------------------------\u001b[0m",
      "\u001b[0;31mNameError\u001b[0m                                 Traceback (most recent call last)",
      "\u001b[0;32m<ipython-input-15-8d76a6818108>\u001b[0m in \u001b[0;36m<module>\u001b[0;34m\u001b[0m\n\u001b[1;32m     36\u001b[0m \u001b[0;31m# Merge our cohort tables to the final cohort report\u001b[0m\u001b[0;34m\u001b[0m\u001b[0;34m\u001b[0m\u001b[0;34m\u001b[0m\u001b[0m\n\u001b[1;32m     37\u001b[0m \u001b[0mreport\u001b[0m \u001b[0;34m=\u001b[0m \u001b[0mpd\u001b[0m\u001b[0;34m.\u001b[0m\u001b[0mmerge\u001b[0m\u001b[0;34m(\u001b[0m\u001b[0mcohort_sizes\u001b[0m\u001b[0;34m,\u001b[0m \u001b[0mcohorts\u001b[0m\u001b[0;34m,\u001b[0m \u001b[0mon\u001b[0m\u001b[0;34m=\u001b[0m\u001b[0;34m'first_session_month'\u001b[0m\u001b[0;34m)\u001b[0m\u001b[0;34m\u001b[0m\u001b[0;34m\u001b[0m\u001b[0m\n\u001b[0;32m---> 38\u001b[0;31m \u001b[0mreport\u001b[0m\u001b[0;34m[\u001b[0m\u001b[0;34m'ltv'\u001b[0m\u001b[0;34m]\u001b[0m \u001b[0;34m=\u001b[0m \u001b[0mcohort_report\u001b[0m\u001b[0;34m[\u001b[0m\u001b[0;34m'revenue'\u001b[0m\u001b[0;34m]\u001b[0m \u001b[0;34m/\u001b[0m \u001b[0mcohort_report\u001b[0m\u001b[0;34m[\u001b[0m\u001b[0;34m'n_buyers'\u001b[0m\u001b[0;34m]\u001b[0m\u001b[0;34m\u001b[0m\u001b[0;34m\u001b[0m\u001b[0m\n\u001b[0m\u001b[1;32m     39\u001b[0m \u001b[0;34m\u001b[0m\u001b[0m\n\u001b[1;32m     40\u001b[0m \u001b[0;31m# Create LTV table\u001b[0m\u001b[0;34m\u001b[0m\u001b[0;34m\u001b[0m\u001b[0;34m\u001b[0m\u001b[0m\n",
      "\u001b[0;31mNameError\u001b[0m: name 'cohort_report' is not defined"
     ]
    }
   ],
   "source": [
    "# How much money do they bring? (LTV)\n",
    "# LTV (lifetime value) is the total amount of money a customer brings to the company on average by making purchases\n",
    "\n",
    "# # copy dataframes\n",
    "orders = order_logs.copy()\n",
    "visit = visit_logs.copy()\n",
    "visit = visit[['session_start','user_id']]\n",
    "\n",
    "# extract month and date for each datetime row \n",
    "orders['order_month'] = orders['order_datetime'].astype('datetime64[M]')\n",
    "orders['order_date'] = orders['order_datetime'].dt.date\n",
    "\n",
    "# Calculate when first order for each customer have happened\n",
    "\n",
    "visits_and_orders = orders.join(visit\n",
    "                      .sort_values(by='session_start')\n",
    "                      .groupby(['user_id'])\n",
    "                      .agg({'session_start': 'min'}),\n",
    "                      on='user_id', how='inner')\n",
    "\n",
    "visits_and_orders['first_session_month'] = visits_and_orders['session_start'].astype('datetime64[M]')\n",
    "\n",
    "# Create cohorts based on first purchase date and revenue\n",
    "\n",
    "cohort_sizes = visits_and_orders.groupby('first_session_month').agg({'user_id': 'nunique'}).reset_index()\n",
    "cohort_sizes.rename(columns={'user_id': 'n_buyers'}, inplace=True)\n",
    "\n",
    "cohorts = visits_and_orders.groupby(['first_session_month', 'order_month']).agg({'revenue': ['sum', 'count']}).reset_index()\n",
    "\n",
    "# Calculate cohort age\n",
    "\n",
    "cohorts['age_month'] = (cohorts['order_month'] - cohorts['first_session_month']) / np.timedelta64(1, 'M')\n",
    "cohorts['age_month'] = cohorts['age_month'].round().astype('int')\n",
    "cohorts.columns = ['first_session_month', 'order_month', 'revenue', 'n_orders', 'age_month']\n",
    "\n",
    "# Merge our cohort tables to the final cohort report\n",
    "report = pd.merge(cohort_sizes, cohorts, on='first_session_month')\n",
    "report['ltv'] = cohort_report['revenue'] / cohort_report['n_buyers']\n",
    "\n",
    "# Create LTV table\n",
    "ltv_cohort = report.pivot_table(\n",
    "    index = 'first_session_month',\n",
    "    columns = 'age_month',\n",
    "    values = 'ltv',\n",
    "    aggfunc = 'sum').cumsum(axis=1)\n",
    "\n",
    "plt.figure(figsize=(15, 5))\n",
    "sns.heatmap(ltv_cohort, annot=True, fmt='.2f');"
   ]
  },
  {
   "cell_type": "markdown",
   "metadata": {},
   "source": [
    "LTV (lifetime value) is the total amount of money a customer brings to the company on average by making purchases. To calcuate this metric, I extracted the first order month and all months afterwards and grouped this data per user while adding up the revenue. I found the gross profit for each cohort and then calculated LTV from that. The heatmap indicates that the most revenue is always from the first order month and afterwards, the trend tends to decrease so the customer does not bring the company much money after it's initial purchase. \n",
    "\n",
    "For the most part, the lifetime value per customer increases over time."
   ]
  },
  {
   "cell_type": "markdown",
   "metadata": {},
   "source": [
    "<div class=\"alert alert-warning\">\n",
    "<b>Remarks: </b> Yeah, sure. Please, check your groupby and merge approaches. <br>\n",
    "Hint: Cohort graphics looks like triangle. You should see something like that: <a>http://seaborn.pydata.org/_images/seaborn-heatmap-12.png<a> \n",
    " \n",
    "</div>"
   ]
  },
  {
   "cell_type": "markdown",
   "metadata": {},
   "source": [
    "<div class=\"alert alert-danger\">\n",
    "<s><b>Needs fixing:</b> Your calculations are correct, but not sufficient. Please, provide more detailed analyis with <b>user cohorts</b> and plot heatmap.\n",
    " \n",
    "</div>\n"
   ]
  },
  {
   "cell_type": "markdown",
   "metadata": {},
   "source": [
    "<div class=\"alert alert-info\"> <b> I don't understand what I'm doing wrong - i have cohort on tha y axis and the months on the xaxis. this is how they showed us on the practicum  </b></div>"
   ]
  },
  {
   "cell_type": "markdown",
   "metadata": {},
   "source": [
    "<div class=\"alert alert-warning\">\n",
    "<b>Remarks: </b> Now it looks much better! LTV values in the heatmap should be a float, like in the report table.\n",
    "You have an excessive round() operation in your pivot chain.\n",
    " \n",
    "</div>"
   ]
  },
  {
   "cell_type": "markdown",
   "metadata": {},
   "source": [
    "<div class=\"alert alert-info\"> <b> hi!! so finally happy that i got it. thank you for your patience :) </b></div>"
   ]
  },
  {
   "cell_type": "markdown",
   "metadata": {},
   "source": [
    "<div class=\"alert alert-danger\">\n",
    "<s><b>Needs fixing:</b> Sorry, but we have to come back to this block. I'm very sorry that I didn't find the depth of the original error and could not give you the necessary instructions initially.<br>\n",
    "Let's calculate LTV step by step with me.  \n",
    "\n",
    "</div>"
   ]
  },
  {
   "cell_type": "markdown",
   "metadata": {},
   "source": [
    "<div class=\"alert alert-danger\">\n",
    "<s><b>Needs fixing:</b> You were quite close to the solution, the problem was in the first part of your ltv pipeline.\n",
    "Again - sorry that I didn't find better option that to show you code sample. Now you can adapt it for your solution.\n",
    "    \n",
    "</div>"
   ]
  },
  {
   "cell_type": "markdown",
   "metadata": {},
   "source": [
    "<div class=\"alert alert-success\">\n",
    "<b>Success:</b> Well, I hoped that you would prefer to adapt those code, not to copy-paste it. Anyway, now it's correct.\n",
    "</div>"
   ]
  },
  {
   "cell_type": "markdown",
   "metadata": {},
   "source": [
    "## Marketing Evaluation for Yandex.Afisha"
   ]
  },
  {
   "cell_type": "markdown",
   "metadata": {},
   "source": [
    "<div class=\"alert alert-danger\">\n",
    "<s><b>Needs fixing:</b> Again, your calculations in marketing block are correct, but not sufficient. Please, provide more detailed analyis with <b>user cohorts</b> and plot heatmap.\n",
    " \n",
    "</div>"
   ]
  },
  {
   "cell_type": "markdown",
   "metadata": {},
   "source": [
    "### How much money was spent? Overall/per source/over time"
   ]
  },
  {
   "cell_type": "markdown",
   "metadata": {},
   "source": [
    "<div class=\"alert alert-info\"> <b>look better?</b></div>"
   ]
  },
  {
   "cell_type": "markdown",
   "metadata": {},
   "source": [
    "<div class=\"alert alert-warning\">\n",
    "<b>Remark:</b> LTV - yes, definately. If you ask about marketing evaluation - please, check your CAC calcuation.\n",
    "</div>"
   ]
  },
  {
   "cell_type": "code",
   "execution_count": null,
   "metadata": {},
   "outputs": [],
   "source": [
    "# How much money was spent? \n",
    "\n",
    "# Overall\n",
    "cost_overall = cost['ad_expenses'].sum()\n",
    "print('The overall amount spent on marketing was $' + str(cost_overall))"
   ]
  },
  {
   "cell_type": "markdown",
   "metadata": {},
   "source": [
    "<div class=\"alert alert-success\">\n",
    "<b>Success:</b> Correct\n",
    "</div>"
   ]
  },
  {
   "cell_type": "code",
   "execution_count": null,
   "metadata": {},
   "outputs": [],
   "source": [
    "# per source\n",
    "cost_per_source = cost.groupby('source_id').agg({'ad_expenses':'sum'}).reset_index()\n",
    "cost_per_source.columns = ['source_id','total_ad_expenses']\n",
    "\n",
    "plt.figure(figsize=(8,6))\n",
    "plt.bar(cost_per_source['source_id'],cost_per_source['total_ad_expenses'])\n",
    "plt.title('Ad Costs Per Source')\n",
    "plt.xlabel('Source')\n",
    "plt.ylabel('Amount Spent ($)')"
   ]
  },
  {
   "cell_type": "markdown",
   "metadata": {},
   "source": [
    "<div class=\"alert alert-success\">\n",
    "<b>Success:</b> Correct\n",
    "</div>"
   ]
  },
  {
   "cell_type": "code",
   "execution_count": null,
   "metadata": {},
   "outputs": [],
   "source": [
    "# Over time\n",
    "cost_over_time = cost.copy()\n",
    "cost_over_time['ad_month'] = cost['ad_datetime'].astype('datetime64[M]').dt.month\n",
    "cost_over_time = cost_over_time.groupby('ad_month').agg({'ad_expenses':'sum'}).reset_index()\n",
    "cost_over_time.columns = ['ad_month','ad_expenses']\n",
    "\n",
    "plt.figure(figsize=(8,6))\n",
    "plt.plot(cost_over_time['ad_month'],cost_over_time['ad_expenses'])\n",
    "plt.title('Ad Costs Over Time')\n",
    "plt.xlabel('Months')\n",
    "plt.ylabel('Amount Spent ($)')"
   ]
  },
  {
   "cell_type": "markdown",
   "metadata": {},
   "source": [
    "<div class=\"alert alert-success\">\n",
    "<b>Success:</b> Correct\n",
    "</div>"
   ]
  },
  {
   "cell_type": "markdown",
   "metadata": {},
   "source": [
    "### How much did customer acquisition from each of the sources cost?"
   ]
  },
  {
   "cell_type": "markdown",
   "metadata": {},
   "source": [
    "<div class=\"alert alert-warning\">\n",
    "<b>Remarks: </b> Now, with update cohort report you will give more adequate results.\n",
    "</div>"
   ]
  },
  {
   "cell_type": "code",
   "execution_count": null,
   "metadata": {},
   "outputs": [],
   "source": [
    "# How much did customer acquisition from each of the sources cost?\n",
    "\n",
    "# CAC\n",
    "# calculate ad expenses per month\n",
    "monthly_ad_cost = cost.copy()\n",
    "monthly_ad_cost['ad_month'] = monthly_ad_cost['ad_datetime'].dt.month\n",
    "monthly_ad_cost = monthly_ad_cost[['ad_month','ad_expenses']]\n",
    "monthly_ad_cost = monthly_ad_cost.groupby('ad_month')['ad_expenses'].sum().reset_index()\n",
    "\n",
    "# incorpordate data on costs\n",
    "report['order_month'] = report['order_month'].dt.month\n",
    "\n",
    "report = pd.merge(report, monthly_ad_cost, left_on='order_month', right_on='ad_month')\n",
    "\n",
    "# calculate cac\n",
    "report['cac'] = report['ad_expenses'] / report['n_buyers']\n",
    "\n",
    "# starting at first order month and continuing through order months,what is cac per cohort\n",
    "result = report.pivot_table(index='order_month',columns='ad_month',values='cac',aggfunc='mean').round()\n",
    "result.fillna('')\n",
    "\n",
    "plt.figure(figsize=(13,9))\n",
    "plt.title('CAC per Cohort')\n",
    "sns.heatmap(result, annot=True, fmt='.1f', linewidths=1, linecolor='black')"
   ]
  },
  {
   "cell_type": "markdown",
   "metadata": {},
   "source": [
    "CAC (customer acquisition cost) is the cost of attracting a customer - how much was spent in marketing efforts to acquire a single customer. To calculate this, we can compare the amount spent on ads for the same month that the customer made a purchase by dividing expenses spent on ads by the number of buyers for each month. "
   ]
  },
  {
   "cell_type": "markdown",
   "metadata": {},
   "source": [
    "<div class=\"alert alert-success\">\n",
    "<s><b>Success:</b> Right\n",
    "       \n",
    "</div>"
   ]
  },
  {
   "cell_type": "markdown",
   "metadata": {},
   "source": [
    "<div class=\"alert alert-danger\">\n",
    "<s><b>Need to fix:</b> Oh, something strange is happening here. Please, check your code, Agathe.\n",
    "</div>"
   ]
  },
  {
   "cell_type": "markdown",
   "metadata": {},
   "source": [
    "### How worthwhile where the investments? (ROI)"
   ]
  },
  {
   "cell_type": "code",
   "execution_count": null,
   "metadata": {},
   "outputs": [],
   "source": [
    "# How worthwhile where the investments? (ROI)\n",
    "\n",
    "# calculate return on marketing investment \n",
    "report['romi'] = report['ltv'] / report['cac']\n",
    "\n",
    "output = report.pivot_table(index='order_month', columns='ad_month',values='romi',aggfunc='mean')\n",
    "output = output.cumsum(axis=1).round(2)\n",
    "\n",
    "plt.figure(figsize=(13,9))\n",
    "plt.title('ROI per Cohort')\n",
    "sns.heatmap(output, annot=True, fmt='.1f', linewidths=1, linecolor='black')"
   ]
  },
  {
   "cell_type": "markdown",
   "metadata": {},
   "source": [
    "<div class=\"alert alert-success\">\n",
    "<b>Success:</b> Correct\n",
    "</div>"
   ]
  },
  {
   "cell_type": "markdown",
   "metadata": {},
   "source": [
    "## Conclusion"
   ]
  },
  {
   "cell_type": "markdown",
   "metadata": {},
   "source": [
    "Advise marketing experts how much money to invest and where:\n",
    "\n",
    "From my investigation, I would advise marketing experts at Yandex.Afisha to invest in ad source number 3 as it brings in the most customers. However, it is clear from the data that the LTV (lifetime customer value) is significantly less than the CAC (customer acquisition cost) which is a sign that Yandex.Afisha is not doing  well. On average, the LTV per cohort (defined as first purchase month) is $0.51 and the CAC per cohort  is $8.90. This means that for every $8.90 spent on acquiring customers, the customer only made $0.51 in profit. This can be seen overall where total ad expenses is $329,131 while total revenue is $252,057. \n",
    "\n",
    "Since Yandex.Afisha is losing money, I would recommend that they increase the cost of products, decrease marketing costs or invest marketing costs more intelligently. "
   ]
  }
 ],
 "metadata": {
  "kernelspec": {
   "display_name": "Python 3",
   "language": "python",
   "name": "python3"
  },
  "language_info": {
   "codemirror_mode": {
    "name": "ipython",
    "version": 3
   },
   "file_extension": ".py",
   "mimetype": "text/x-python",
   "name": "python",
   "nbconvert_exporter": "python",
   "pygments_lexer": "ipython3",
   "version": "3.7.6"
  }
 },
 "nbformat": 4,
 "nbformat_minor": 2
}
