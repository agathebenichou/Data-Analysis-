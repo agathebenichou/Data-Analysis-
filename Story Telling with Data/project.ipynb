{
 "cells": [
  {
   "cell_type": "markdown",
   "metadata": {},
   "source": [
    "# Telling A Story Using Data"
   ]
  },
  {
   "cell_type": "markdown",
   "metadata": {},
   "source": [
    "Task: You’ve decided to open a small robot-run cafe in Los Angeles. The project is promising but expensive, so you and your partners decide to try to attract investors. They’re interested in the current market conditions—will you be able to maintain your success when the novelty of robot waiters wears off? Your partners have asked you to prepare some market research using open-source data on restaurants in LA."
   ]
  },
  {
   "cell_type": "markdown",
   "metadata": {},
   "source": [
    "### Load Data"
   ]
  },
  {
   "cell_type": "code",
   "execution_count": 1,
   "metadata": {},
   "outputs": [
    {
     "name": "stdout",
     "output_type": "stream",
     "text": [
      "\u001b[33m  WARNING: The scripts futurize and pasteurize are installed in '/home/jovyan/.local/bin' which is not on PATH.\r\n",
      "  Consider adding this directory to PATH or, if you prefer to suppress this warning, use --no-warn-script-location.\u001b[0m\r\n"
     ]
    }
   ],
   "source": [
    "! pip install -q usaddress"
   ]
  },
  {
   "cell_type": "code",
   "execution_count": 2,
   "metadata": {},
   "outputs": [],
   "source": [
    "import pandas as pd\n",
    "import numpy as np\n",
    "import matplotlib as mpl\n",
    "import matplotlib.pyplot as plt\n",
    "import seaborn as sns\n",
    "from scipy import stats as st\n",
    "import usaddress\n",
    "import re"
   ]
  },
  {
   "cell_type": "code",
   "execution_count": 3,
   "metadata": {},
   "outputs": [
    {
     "name": "stdout",
     "output_type": "stream",
     "text": [
      "<class 'pandas.core.frame.DataFrame'>\n",
      "RangeIndex: 9651 entries, 0 to 9650\n",
      "Data columns (total 6 columns):\n",
      "id             9651 non-null int64\n",
      "object_name    9651 non-null object\n",
      "address        9651 non-null object\n",
      "chain          9648 non-null object\n",
      "object_type    9651 non-null object\n",
      "number         9651 non-null int64\n",
      "dtypes: int64(2), object(4)\n",
      "memory usage: 452.5+ KB\n"
     ]
    },
    {
     "data": {
      "text/html": [
       "<div>\n",
       "<style scoped>\n",
       "    .dataframe tbody tr th:only-of-type {\n",
       "        vertical-align: middle;\n",
       "    }\n",
       "\n",
       "    .dataframe tbody tr th {\n",
       "        vertical-align: top;\n",
       "    }\n",
       "\n",
       "    .dataframe thead th {\n",
       "        text-align: right;\n",
       "    }\n",
       "</style>\n",
       "<table border=\"1\" class=\"dataframe\">\n",
       "  <thead>\n",
       "    <tr style=\"text-align: right;\">\n",
       "      <th></th>\n",
       "      <th>id</th>\n",
       "      <th>object_name</th>\n",
       "      <th>address</th>\n",
       "      <th>chain</th>\n",
       "      <th>object_type</th>\n",
       "      <th>number</th>\n",
       "    </tr>\n",
       "  </thead>\n",
       "  <tbody>\n",
       "    <tr>\n",
       "      <td>0</td>\n",
       "      <td>11786</td>\n",
       "      <td>HABITAT COFFEE SHOP</td>\n",
       "      <td>3708 N EAGLE ROCK BLVD</td>\n",
       "      <td>False</td>\n",
       "      <td>Cafe</td>\n",
       "      <td>26</td>\n",
       "    </tr>\n",
       "    <tr>\n",
       "      <td>1</td>\n",
       "      <td>11787</td>\n",
       "      <td>REILLY'S</td>\n",
       "      <td>100 WORLD WAY # 120</td>\n",
       "      <td>False</td>\n",
       "      <td>Restaurant</td>\n",
       "      <td>9</td>\n",
       "    </tr>\n",
       "    <tr>\n",
       "      <td>2</td>\n",
       "      <td>11788</td>\n",
       "      <td>STREET CHURROS</td>\n",
       "      <td>6801 HOLLYWOOD BLVD # 253</td>\n",
       "      <td>False</td>\n",
       "      <td>Fast Food</td>\n",
       "      <td>20</td>\n",
       "    </tr>\n",
       "    <tr>\n",
       "      <td>3</td>\n",
       "      <td>11789</td>\n",
       "      <td>TRINITI ECHO PARK</td>\n",
       "      <td>1814 W SUNSET BLVD</td>\n",
       "      <td>False</td>\n",
       "      <td>Restaurant</td>\n",
       "      <td>22</td>\n",
       "    </tr>\n",
       "    <tr>\n",
       "      <td>4</td>\n",
       "      <td>11790</td>\n",
       "      <td>POLLEN</td>\n",
       "      <td>2100 ECHO PARK AVE</td>\n",
       "      <td>False</td>\n",
       "      <td>Restaurant</td>\n",
       "      <td>20</td>\n",
       "    </tr>\n",
       "  </tbody>\n",
       "</table>\n",
       "</div>"
      ],
      "text/plain": [
       "      id          object_name                    address  chain object_type  \\\n",
       "0  11786  HABITAT COFFEE SHOP     3708 N EAGLE ROCK BLVD  False        Cafe   \n",
       "1  11787             REILLY'S        100 WORLD WAY # 120  False  Restaurant   \n",
       "2  11788       STREET CHURROS  6801 HOLLYWOOD BLVD # 253  False   Fast Food   \n",
       "3  11789    TRINITI ECHO PARK         1814 W SUNSET BLVD  False  Restaurant   \n",
       "4  11790               POLLEN         2100 ECHO PARK AVE  False  Restaurant   \n",
       "\n",
       "   number  \n",
       "0      26  \n",
       "1       9  \n",
       "2      20  \n",
       "3      22  \n",
       "4      20  "
      ]
     },
     "metadata": {},
     "output_type": "display_data"
    }
   ],
   "source": [
    "# load in data file \n",
    "data = pd.read_csv('/datasets/rest_data_us.csv', sep=',')\n",
    "\n",
    "# study general information \n",
    "data.info()\n",
    "\n",
    "display(data.head())"
   ]
  },
  {
   "cell_type": "markdown",
   "metadata": {},
   "source": [
    "### Pre-process the data"
   ]
  },
  {
   "cell_type": "code",
   "execution_count": 4,
   "metadata": {},
   "outputs": [],
   "source": [
    "# drop duplicates and NAN values\n",
    "data = data.drop_duplicates()\n",
    "\n",
    "# rename column names\n",
    "data.columns = ['id', 'name', 'address', 'chain', 'type', 'total_seats']\n",
    "\n",
    "# chain column - drop rows with NA values\n",
    "data['chain'].dropna(inplace=True)\n",
    "\n",
    "# name column - replace NaN and standardize names \n",
    "\n",
    "# drop name colums with empty strings\n",
    "data.replace(\"\", float(\"NaN\"), inplace=True)\n",
    "data.dropna(subset = [\"name\"], inplace=True)\n",
    "\n",
    "# method to clean names\n",
    "def cleanNames(name):\n",
    "    name = name\n",
    "\n",
    "    # if # symbol in name, split it to remove numbers\n",
    "    if '#' in name:\n",
    "        name = name.split('#')[0].strip()\n",
    "    \n",
    "    # if - symbol in name, split it to remove numbers\n",
    "    if '-' in name:\n",
    "        tmp = name.split('-')\n",
    "\n",
    "        if tmp[1].isdecimal():\n",
    "            name = tmp[0].strip()\n",
    "    \n",
    "    return name\n",
    "    \n",
    "# clean names to remove branch numbers\n",
    "data['name'] = data.name.apply(cleanNames)\n",
    "\n",
    "# method to clean addresses\n",
    "def cleanAddress(address):\n",
    "    address = address\n",
    "\n",
    "    # hardcode singular cases\n",
    "    if address.startswith('OLVERA'):\n",
    "        address = 'OLVERA,Los Angeles,USA'\n",
    "    elif address.startswith('1033 1/2 LOS ANGELES ST'):\n",
    "        address = '1033 1/2 LOS ANGELES ST,Los Angeles, USA'\n",
    "        \n",
    "    # standard cases\n",
    "    else:\n",
    "        raw = usaddress.parse(address)\n",
    "        addressDict = {}\n",
    "        for i in raw:\n",
    "            addressDict.update({i[1]:i[0]})\n",
    "        \n",
    "        if 'StreetNamePostType' in addressDict:\n",
    "            address = addressDict['AddressNumber'] + \" \" + str(addressDict['StreetName']) + \\\n",
    "                \" \" + str(addressDict['StreetNamePostType'])+str(',Los Angeles,USA')\n",
    "        else:\n",
    "            address = addressDict['AddressNumber'] + \" \" + str(addressDict['StreetName']) + \\\n",
    "                \" \"+str(',Los Angeles,USA')\n",
    "    \n",
    "    return address\n",
    "    \n",
    "# clean names to remove branch numbers\n",
    "data['address'] = data.address.apply(cleanAddress)"
   ]
  },
  {
   "cell_type": "markdown",
   "metadata": {},
   "source": [
    "### Investigate the proportions of the various types of establishments. "
   ]
  },
  {
   "cell_type": "code",
   "execution_count": 5,
   "metadata": {},
   "outputs": [
    {
     "data": {
      "image/png": "[encoded data removed]",
      "text/plain": [
       "<Figure size 720x360 with 1 Axes>"
      ]
     },
     "metadata": {},
     "output_type": "display_data"
    }
   ],
   "source": [
    "# transform value_counts for type of establishment to dataframe\n",
    "typeData = data['type'].value_counts().rename_axis('type').reset_index(name='count')\n",
    "\n",
    "# plot pie chart with proportions\n",
    "plt.figure(figsize=(10, 5))\n",
    "plt.pie(typeData['count'], labels=typeData['type'],autopct='%0.f%%', shadow=True, startangle=145)\n",
    "plt.title('Types of Establishments')\n",
    "plt.show()"
   ]
  },
  {
   "cell_type": "markdown",
   "metadata": {},
   "source": [
    "The breakdown of the various types of establishments can be seen in the pie chart above: 75% of establishments are restaurants, 11% of establishments are fast food, and the rest are broken down between cafe, pizza, bar and bakery."
   ]
  },
  {
   "cell_type": "markdown",
   "metadata": {},
   "source": [
    "### Investigate the proportions of chain and nonchain establishments."
   ]
  },
  {
   "cell_type": "code",
   "execution_count": 6,
   "metadata": {},
   "outputs": [
    {
     "data": {
      "text/plain": [
       "Text(0.5, 1.0, 'Chain vs Non-Chain Establishments')"
      ]
     },
     "execution_count": 6,
     "metadata": {},
     "output_type": "execute_result"
    },
    {
     "data": {
      "image/png": "[encoded data removed]",
      "text/plain": [
       "<Figure size 432x288 with 1 Axes>"
      ]
     },
     "metadata": {},
     "output_type": "display_data"
    }
   ],
   "source": [
    "# transform value_counts for chain establishment to dataframe\n",
    "chainData = data['chain'].value_counts().rename_axis('chain').reset_index(name='count')\n",
    "\n",
    "# plot pie chart with proportions\n",
    "plt.pie(chainData['count'], labels=chainData['chain'],autopct='%0.f%%', shadow=True, startangle=145)\n",
    "plt.title('Chain vs Non-Chain Establishments')"
   ]
  },
  {
   "cell_type": "markdown",
   "metadata": {},
   "source": [
    "The breakdown between chain and nonchain establishments can be seen in the pie chart above. More than half (62%) of the establishments are nonchain estabilshments, while 38% of the establishments belong to a chain. "
   ]
  },
  {
   "cell_type": "markdown",
   "metadata": {},
   "source": [
    "### Which type of establishment is typically a chain?"
   ]
  },
  {
   "cell_type": "code",
   "execution_count": 7,
   "metadata": {},
   "outputs": [
    {
     "data": {
      "image/png": "[encoded data removed]",
      "text/plain": [
       "<Figure size 720x504 with 1 Axes>"
      ]
     },
     "metadata": {
      "needs_background": "light"
     },
     "output_type": "display_data"
    }
   ],
   "source": [
    "# pull out data from only chains\n",
    "typeChainData = data[data['chain'] == True]\n",
    "\n",
    "# count the number of types of establishments\n",
    "typeChainData = pd.pivot_table(typeChainData,index=['chain','type'], values=['id'], aggfunc='count').reset_index()\n",
    "typeChainData.columns = ['chain', 'type', 'count']\n",
    "typeChainData = typeChainData.sort_values(by='count', ascending=False)\n",
    "\n",
    "# extract total number of establishments\n",
    "totalData = data['type'].value_counts().rename_axis('type').reset_index(name='total')\n",
    "\n",
    "# combine data frames\n",
    "typeChainData = pd.merge(typeChainData, totalData, how='inner', on='type')\n",
    "typeChainData['ratio'] = typeChainData['count'] / typeChainData['total'] * 100\n",
    "\n",
    "# plot bar graph\n",
    "plt.figure(figsize=(10, 7))\n",
    "\n",
    "ax = sns.barplot(data = typeChainData.sort_values('type', ascending=False), \n",
    "                 x='type', \n",
    "                 y='ratio')\n",
    "\n",
    "# Add titles and captions\n",
    "plt.xlabel('Type of Establishment')\n",
    "plt.ylabel('Ratio of Chains')\n",
    "plt.title('Ratio of Chains per Establishment')\n",
    "\n",
    "for p in ax.patches:\n",
    "    ax.annotate(format(p.get_height(), '.2f'), \n",
    "                xy=(p.get_x() + p.get_width() / 2., p.get_height()), \n",
    "                ha = 'center', \n",
    "                va = 'center', \n",
    "                xytext = (0, 10), \n",
    "                textcoords = 'offset points')\n",
    "\n",
    "\n",
    "plt.show()"
   ]
  },
  {
   "cell_type": "markdown",
   "metadata": {},
   "source": [
    "The breakdown of which types of establishments are typically chains can be seen in the bar chart above. As it shows, all bakeries are part of a chain, more than half of cafes and fast food establishments are chains and less than half of pizza places, restaurants and bars are chains. "
   ]
  },
  {
   "cell_type": "markdown",
   "metadata": {},
   "source": [
    "### What characterizes chains: many establishments with a small number of seats or a few establishments with a lot of seats?"
   ]
  },
  {
   "cell_type": "code",
   "execution_count": 8,
   "metadata": {},
   "outputs": [
    {
     "data": {
      "text/plain": [
       "Text(0.5, 1.0, 'Correlation between # of seats and # of establishments')"
      ]
     },
     "execution_count": 8,
     "metadata": {},
     "output_type": "execute_result"
    },
    {
     "data": {
      "image/png": "[encoded data removed]",
      "text/plain": [
       "<Figure size 432x288 with 1 Axes>"
      ]
     },
     "metadata": {
      "needs_background": "light"
     },
     "output_type": "display_data"
    }
   ],
   "source": [
    "# extract data from only chains, sort by count\n",
    "chainData = data[data['chain'] == True]\n",
    "chainData = pd.pivot_table(chainData, index=['total_seats'], values=['id'], aggfunc=['count']).reset_index()\n",
    "chainData.columns = ['total_seats','count']\n",
    "chainData = chainData.sort_values(by='count', ascending=False)\n",
    "\n",
    "# extract data from only nonchains, sort by count\n",
    "nonChainData = data[data['chain'] == False]\n",
    "nonChainData = pd.pivot_table(nonChainData, index=['total_seats'], values=['id'], aggfunc=['count']).reset_index()\n",
    "nonChainData.columns = ['total_seats','count']\n",
    "nonChainData = nonChainData.sort_values(by='count', ascending=False)\n",
    "\n",
    "# plot scatter plot\n",
    "plt.scatter(chainData['total_seats'], chainData['count'], color='r', label='chains')\n",
    "plt.scatter(nonChainData['total_seats'], nonChainData['count'], color='g', label='non-chains')\n",
    "plt.xlabel('Total Seats per Establishment')\n",
    "plt.ylabel('Number of Establishments')\n",
    "plt.legend()\n",
    "plt.title('Correlation between # of seats and # of establishments')"
   ]
  },
  {
   "cell_type": "markdown",
   "metadata": {},
   "source": [
    "The scatter plot above shows the correlation between the number of seats and the number of establishments. In general, most of the establishments have 50 or less seats, while less of the establishments have 50 or more seats. However, the nonchain establishments typically have more seats than the chain establishments. This can be seen in both the areas: more nonchain restaurants than chain restaurants have less than 50 seats and more nonchain restaurants than chain restaurants have more than 50 seats. Chains seem to be characterized by many establishments with a small number of seats."
   ]
  },
  {
   "cell_type": "markdown",
   "metadata": {},
   "source": [
    "### Determine the average number of seats for each type of establishment. On average, which type of establishment has the greatest number of seats? "
   ]
  },
  {
   "cell_type": "code",
   "execution_count": 9,
   "metadata": {},
   "outputs": [
    {
     "data": {
      "image/png": "[encoded data removed]",
      "text/plain": [
       "<Figure size 720x504 with 1 Axes>"
      ]
     },
     "metadata": {
      "needs_background": "light"
     },
     "output_type": "display_data"
    }
   ],
   "source": [
    "# bar graph labels and values\n",
    "labels = ['Cafe', 'Restaurant', 'Fast Food', 'Pizza', 'Bar', 'Bakery']    \n",
    "values = []\n",
    "\n",
    "# for each establishment, extract data, calculate avg and append to list\n",
    "for establishment in range(len(labels)):\n",
    "    estType = labels[establishment]\n",
    "    currData = data[data['type'] == estType]\n",
    "    avgSeats = currData['total_seats'].mean()\n",
    "    values.append(avgSeats)\n",
    "\n",
    "# create df from labels and values\n",
    "df = pd.DataFrame({\"Establishment\":labels, \"Seats\":values})\n",
    "\n",
    "plt.figure(figsize=(10, 7))\n",
    "\n",
    "# Plot barplot\n",
    "ax = sns.barplot(data = df.sort_values('Seats', ascending=False), \n",
    "                 x='Establishment', \n",
    "                 y='Seats')\n",
    "\n",
    "# Add titles and captions\n",
    "plt.xlabel('Type of Establishment')\n",
    "plt.ylabel('Average Number of Seats')\n",
    "plt.title('Average Number of Seats per Establishment')\n",
    "\n",
    "for p in ax.patches:\n",
    "    ax.annotate(format(p.get_height(), '.2f'), \n",
    "                xy=(p.get_x() + p.get_width() / 2., p.get_height()), \n",
    "                ha = 'center', \n",
    "                va = 'center', \n",
    "                xytext = (0, 10), \n",
    "                textcoords = 'offset points')\n",
    "\n",
    "\n",
    "plt.show()"
   ]
  },
  {
   "cell_type": "markdown",
   "metadata": {},
   "source": [
    "The bar graph above shows the average number of seats for each type of establishment. On average, restaurants have the greatest amount of seats (almost 50 seats!)."
   ]
  },
  {
   "cell_type": "markdown",
   "metadata": {},
   "source": [
    "### Put the data on street names from the address column in a separate column."
   ]
  },
  {
   "cell_type": "code",
   "execution_count": 10,
   "metadata": {},
   "outputs": [
    {
     "data": {
      "text/html": [
       "<div>\n",
       "<style scoped>\n",
       "    .dataframe tbody tr th:only-of-type {\n",
       "        vertical-align: middle;\n",
       "    }\n",
       "\n",
       "    .dataframe tbody tr th {\n",
       "        vertical-align: top;\n",
       "    }\n",
       "\n",
       "    .dataframe thead th {\n",
       "        text-align: right;\n",
       "    }\n",
       "</style>\n",
       "<table border=\"1\" class=\"dataframe\">\n",
       "  <thead>\n",
       "    <tr style=\"text-align: right;\">\n",
       "      <th></th>\n",
       "      <th>id</th>\n",
       "      <th>name</th>\n",
       "      <th>address</th>\n",
       "      <th>chain</th>\n",
       "      <th>type</th>\n",
       "      <th>total_seats</th>\n",
       "      <th>street</th>\n",
       "    </tr>\n",
       "  </thead>\n",
       "  <tbody>\n",
       "    <tr>\n",
       "      <td>0</td>\n",
       "      <td>11786</td>\n",
       "      <td>HABITAT COFFEE SHOP</td>\n",
       "      <td>3708 ROCK BLVD,Los Angeles,USA</td>\n",
       "      <td>False</td>\n",
       "      <td>Cafe</td>\n",
       "      <td>26</td>\n",
       "      <td>ROCK BLVD</td>\n",
       "    </tr>\n",
       "    <tr>\n",
       "      <td>1</td>\n",
       "      <td>11787</td>\n",
       "      <td>REILLY'S</td>\n",
       "      <td>100 WORLD WAY,Los Angeles,USA</td>\n",
       "      <td>False</td>\n",
       "      <td>Restaurant</td>\n",
       "      <td>9</td>\n",
       "      <td>WORLD WAY</td>\n",
       "    </tr>\n",
       "    <tr>\n",
       "      <td>2</td>\n",
       "      <td>11788</td>\n",
       "      <td>STREET CHURROS</td>\n",
       "      <td>6801 HOLLYWOOD BLVD,Los Angeles,USA</td>\n",
       "      <td>False</td>\n",
       "      <td>Fast Food</td>\n",
       "      <td>20</td>\n",
       "      <td>HOLLYWOOD BLVD</td>\n",
       "    </tr>\n",
       "    <tr>\n",
       "      <td>3</td>\n",
       "      <td>11789</td>\n",
       "      <td>TRINITI ECHO PARK</td>\n",
       "      <td>1814 SUNSET BLVD,Los Angeles,USA</td>\n",
       "      <td>False</td>\n",
       "      <td>Restaurant</td>\n",
       "      <td>22</td>\n",
       "      <td>SUNSET BLVD</td>\n",
       "    </tr>\n",
       "    <tr>\n",
       "      <td>4</td>\n",
       "      <td>11790</td>\n",
       "      <td>POLLEN</td>\n",
       "      <td>2100 PARK AVE,Los Angeles,USA</td>\n",
       "      <td>False</td>\n",
       "      <td>Restaurant</td>\n",
       "      <td>20</td>\n",
       "      <td>PARK AVE</td>\n",
       "    </tr>\n",
       "    <tr>\n",
       "      <td>...</td>\n",
       "      <td>...</td>\n",
       "      <td>...</td>\n",
       "      <td>...</td>\n",
       "      <td>...</td>\n",
       "      <td>...</td>\n",
       "      <td>...</td>\n",
       "      <td>...</td>\n",
       "    </tr>\n",
       "    <tr>\n",
       "      <td>9646</td>\n",
       "      <td>21432</td>\n",
       "      <td>HALL OF JUSTICE</td>\n",
       "      <td>217 TEMPLE AVE,Los Angeles,USA</td>\n",
       "      <td>False</td>\n",
       "      <td>Restaurant</td>\n",
       "      <td>122</td>\n",
       "      <td>TEMPLE AVE</td>\n",
       "    </tr>\n",
       "    <tr>\n",
       "      <td>9647</td>\n",
       "      <td>21433</td>\n",
       "      <td>FIN-MELROSE</td>\n",
       "      <td>5750 MELROSE AVE,Los Angeles,USA</td>\n",
       "      <td>False</td>\n",
       "      <td>Restaurant</td>\n",
       "      <td>93</td>\n",
       "      <td>MELROSE AVE</td>\n",
       "    </tr>\n",
       "    <tr>\n",
       "      <td>9648</td>\n",
       "      <td>21434</td>\n",
       "      <td>JUICY WINGZ</td>\n",
       "      <td>6741 HOLLYWOOD BLVD,Los Angeles,USA</td>\n",
       "      <td>True</td>\n",
       "      <td>Fast Food</td>\n",
       "      <td>15</td>\n",
       "      <td>HOLLYWOOD BLVD</td>\n",
       "    </tr>\n",
       "    <tr>\n",
       "      <td>9649</td>\n",
       "      <td>21435</td>\n",
       "      <td>MEDIDATE COFFEE</td>\n",
       "      <td>548 SPRING ST,Los Angeles,USA</td>\n",
       "      <td>False</td>\n",
       "      <td>Cafe</td>\n",
       "      <td>6</td>\n",
       "      <td>SPRING ST</td>\n",
       "    </tr>\n",
       "    <tr>\n",
       "      <td>9650</td>\n",
       "      <td>21436</td>\n",
       "      <td>CAFE SPROUTS</td>\n",
       "      <td>1300 PEDRO ST,Los Angeles,USA</td>\n",
       "      <td>True</td>\n",
       "      <td>Restaurant</td>\n",
       "      <td>19</td>\n",
       "      <td>PEDRO ST</td>\n",
       "    </tr>\n",
       "  </tbody>\n",
       "</table>\n",
       "<p>9651 rows × 7 columns</p>\n",
       "</div>"
      ],
      "text/plain": [
       "         id                 name                              address  chain  \\\n",
       "0     11786  HABITAT COFFEE SHOP       3708 ROCK BLVD,Los Angeles,USA  False   \n",
       "1     11787             REILLY'S        100 WORLD WAY,Los Angeles,USA  False   \n",
       "2     11788       STREET CHURROS  6801 HOLLYWOOD BLVD,Los Angeles,USA  False   \n",
       "3     11789    TRINITI ECHO PARK     1814 SUNSET BLVD,Los Angeles,USA  False   \n",
       "4     11790               POLLEN        2100 PARK AVE,Los Angeles,USA  False   \n",
       "...     ...                  ...                                  ...    ...   \n",
       "9646  21432      HALL OF JUSTICE       217 TEMPLE AVE,Los Angeles,USA  False   \n",
       "9647  21433          FIN-MELROSE     5750 MELROSE AVE,Los Angeles,USA  False   \n",
       "9648  21434          JUICY WINGZ  6741 HOLLYWOOD BLVD,Los Angeles,USA   True   \n",
       "9649  21435      MEDIDATE COFFEE        548 SPRING ST,Los Angeles,USA  False   \n",
       "9650  21436         CAFE SPROUTS        1300 PEDRO ST,Los Angeles,USA   True   \n",
       "\n",
       "            type  total_seats          street  \n",
       "0           Cafe           26       ROCK BLVD  \n",
       "1     Restaurant            9       WORLD WAY  \n",
       "2      Fast Food           20  HOLLYWOOD BLVD  \n",
       "3     Restaurant           22     SUNSET BLVD  \n",
       "4     Restaurant           20        PARK AVE  \n",
       "...          ...          ...             ...  \n",
       "9646  Restaurant          122      TEMPLE AVE  \n",
       "9647  Restaurant           93     MELROSE AVE  \n",
       "9648   Fast Food           15  HOLLYWOOD BLVD  \n",
       "9649        Cafe            6       SPRING ST  \n",
       "9650  Restaurant           19        PEDRO ST  \n",
       "\n",
       "[9651 rows x 7 columns]"
      ]
     },
     "metadata": {},
     "output_type": "display_data"
    }
   ],
   "source": [
    "# method to extract only street name\n",
    "def streetNames(street):\n",
    "    street = street.split(',')[0].split(' ')[-2:]\n",
    "    street = \" \".join(street)\n",
    "    if street == '103 ':\n",
    "        street = '103RD ST'\n",
    "    return street\n",
    "    \n",
    "# extract only street names\n",
    "data['street'] = data.address.apply(streetNames)\n",
    "display(data)"
   ]
  },
  {
   "cell_type": "markdown",
   "metadata": {},
   "source": [
    "### Plot a graph of the top ten streets by number of establishments."
   ]
  },
  {
   "cell_type": "code",
   "execution_count": 11,
   "metadata": {},
   "outputs": [
    {
     "data": {
      "image/png": "[encoded data removed]",
      "text/plain": [
       "<Figure size 720x504 with 1 Axes>"
      ]
     },
     "metadata": {
      "needs_background": "light"
     },
     "output_type": "display_data"
    }
   ],
   "source": [
    "# sort street data by number of occurrences\n",
    "streetData = pd.pivot_table(data, index=['street'], values=['id'], aggfunc=['count']).reset_index()\n",
    "streetData.columns = ['street','count']\n",
    "topStreetData = streetData.sort_values(by='count', ascending=False).head(10)\n",
    "\n",
    "# Plot barplot\n",
    "plt.figure(figsize=(10, 7))\n",
    "\n",
    "ax = sns.barplot(data = topStreetData.sort_values('count', ascending=False), \n",
    "                 x='street', \n",
    "                 y='count')\n",
    "\n",
    "# Add titles and captions\n",
    "plt.xlabel('Most Popular Streets')\n",
    "plt.ylabel('Number of Establishments')\n",
    "plt.title('Number of Establishments per Most Popular Streets')\n",
    "\n",
    "for p in ax.patches:\n",
    "    ax.annotate(format(p.get_height(), '.2f'), \n",
    "                xy=(p.get_x() + p.get_width() / 2., p.get_height()), \n",
    "                ha = 'center', \n",
    "                va = 'center', \n",
    "                xytext = (0, 10), \n",
    "                textcoords = 'offset points')\n",
    "\n",
    "plt.xticks(rotation=90)\n",
    "plt.show()"
   ]
  },
  {
   "cell_type": "markdown",
   "metadata": {},
   "source": [
    "The bar chart above shows the top ten streets by the number of establishments located on the street. The most popular streets for establishments are Sunset Boulevard, Wilshire Boulevard, Pico Boulevard and Western Avenue."
   ]
  },
  {
   "cell_type": "markdown",
   "metadata": {},
   "source": [
    "### Find the number of streets that only have one restaurant."
   ]
  },
  {
   "cell_type": "code",
   "execution_count": 12,
   "metadata": {},
   "outputs": [
    {
     "name": "stdout",
     "output_type": "stream",
     "text": [
      "There are 237 with only one restaurant on them.\n"
     ]
    }
   ],
   "source": [
    "# extract streets with a single restaurant\n",
    "singleStreetData = streetData[streetData['count'] == 1]\n",
    "numStreets = len(singleStreetData)\n",
    "print('There are ' + str(numStreets) + \" with only one restaurant on them.\")"
   ]
  },
  {
   "cell_type": "markdown",
   "metadata": {},
   "source": [
    "### For streets with a lot of establishments, look at the distribution of the number of seats. What trends can you see?"
   ]
  },
  {
   "cell_type": "code",
   "execution_count": 13,
   "metadata": {},
   "outputs": [
    {
     "data": {
      "text/plain": [
       "Text(0, 0.5, 'Density of Streets')"
      ]
     },
     "execution_count": 13,
     "metadata": {},
     "output_type": "execute_result"
    },
    {
     "data": {
      "image/png": "[encoded data removed]",
      "text/plain": [
       "<Figure size 432x288 with 1 Axes>"
      ]
     },
     "metadata": {
      "needs_background": "light"
     },
     "output_type": "display_data"
    }
   ],
   "source": [
    "# calculate avg number of restaurants per street, extract only those greater than avg\n",
    "avgNumRestaurants = streetData['count'].mean().round()\n",
    "avgStreetData = streetData[streetData['count'] > avgNumRestaurants]\n",
    "\n",
    "# plot distribution plot\n",
    "ax = sns.distplot(avgStreetData['count'])\n",
    "ax.set_title('Distribution of the Number of Seats')\n",
    "ax.set_xlabel('Number of Seats')\n",
    "ax.set_ylabel('Density of Streets')"
   ]
  },
  {
   "cell_type": "markdown",
   "metadata": {},
   "source": [
    "For streets with a lot of establishments (greater than the average number of establishments per street), most of those establishments have 100 or less seats. In fact, it seems that many of those establishments have less than 50 seats."
   ]
  },
  {
   "cell_type": "markdown",
   "metadata": {},
   "source": [
    "### Draw an overall conclusion and provide recommendations on restaurant type and number of seats."
   ]
  },
  {
   "cell_type": "markdown",
   "metadata": {},
   "source": [
    "I’ve decided to open a small robot-run cafe in Los Angeles. The project is promising but expensive, so my partners and I decided to try to attract investors. The investors are interested in the current market conditions in order to determine if we will be able to maintain your success when the novelty of robot waiters wears off.\n",
    "\n",
    "After an analysis of current food establishment market in Los Angeles, there are several conclusions that can be made regarding the data. The most popular establishments in the LA area are restaurants, as over 75% of food estalishments are restaurants. Certain types of establishments are largely part of a chain: over 50% of bakeries, cafes and fast food places are part of a chain while less than 50% of restaurants and bars are part of a chain. Chains are characterized by having many establishments with a small number of seats (less than 100 seats). The average number of seats in a restaurant are 48 seats, in a bar are 45 seats and less than those 30 seats for other food establishments. The streets in LA with the most food establishments on them (more than 250 food establishments) are: Sunset Boulevard, Wilshire Boulevard, Pico Boulevard, Western Avenue, Figueroa Street, Olympic Boulevard, Vermount Avenue, Monica Boulevard, 3rd Street and Holly Boulevard. The establishments that are on these most popular streets have mostly anywhere between 20-100 seats. \n",
    "\n",
    "In conclusion, I believe that the most profitable and worthwhile food establishment to invest in would be either a restaurant or a bar with anywhere between 40-50 seats that is located on any one of those 10 most popular streets mentioned above. "
   ]
  },
  {
   "cell_type": "markdown",
   "metadata": {},
   "source": [
    "### Presentation"
   ]
  },
  {
   "cell_type": "markdown",
   "metadata": {},
   "source": [
    "Presentation: https://docs.google.com/presentation/d/13u_eESHplwkC08BbgmP4BWCgLL9kzzZLzwcAFci5O7E/edit?usp=sharing"
   ]
  }
 ],
 "metadata": {
  "celltoolbar": "Raw Cell Format",
  "kernelspec": {
   "display_name": "Python 3",
   "language": "python",
   "name": "python3"
  },
  "language_info": {
   "codemirror_mode": {
    "name": "ipython",
    "version": 3
   },
   "file_extension": ".py",
   "mimetype": "text/x-python",
   "name": "python",
   "nbconvert_exporter": "python",
   "pygments_lexer": "ipython3",
   "version": "3.7.6"
  }
 },
 "nbformat": 4,
 "nbformat_minor": 2
}
