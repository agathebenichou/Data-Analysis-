{
 "cells": [
  {
   "cell_type": "markdown",
   "metadata": {},
   "source": [
    "## Analyzing borrowers’ risk of defaulting\n",
    "\n",
    "Your project is to prepare a report for a bank’s loan division. You’ll need to find out if a customer’s marital status and number of children has an impact on whether they will default on a loan. The bank already has some data on customers’ credit worthiness.\n",
    "\n",
    "Your report will be considered when building a **credit scoring** of a potential customer. A ** credit scoring ** is used to evaluate the ability of a potential borrower to repay their loan."
   ]
  },
  {
   "cell_type": "markdown",
   "metadata": {},
   "source": [
    "### Step 1. Open the data file and have a look at the general information. "
   ]
  },
  {
   "cell_type": "code",
   "execution_count": 15,
   "metadata": {},
   "outputs": [],
   "source": [
    "import pandas as pd\n",
    "data = pd.read_csv('/datasets/credit_scoring_eng.csv')\n",
    "creditScore = pd.DataFrame(data=data)"
   ]
  },
  {
   "cell_type": "markdown",
   "metadata": {},
   "source": [
    "### Conclusion"
   ]
  },
  {
   "cell_type": "markdown",
   "metadata": {},
   "source": [
    "### Step 2. Data preprocessing"
   ]
  },
  {
   "cell_type": "markdown",
   "metadata": {},
   "source": [
    "### Processing missing values"
   ]
  },
  {
   "cell_type": "code",
   "execution_count": 17,
   "metadata": {},
   "outputs": [
    {
     "name": "stdout",
     "output_type": "stream",
     "text": [
      "54\n"
     ]
    }
   ],
   "source": [
    "# handle negative or missing children\n",
    "creditScore['children'] = creditScore['children'].replace(-1,0)\n",
    "creditScore['children'] = creditScore['children'].replace(20,0)\n",
    "creditScore['children'].fillna(0,inplace=True)\n",
    "\n",
    "# handle missing days employee\n",
    "creditScore['days_employed'].fillna(0,inplace=True)\n",
    "\n",
    "# handle missing total income\n",
    "creditScore['total_income'].fillna(0,inplace=True)\n",
    "print(creditScore.duplicated().sum())"
   ]
  },
  {
   "cell_type": "markdown",
   "metadata": {},
   "source": [
    "In the processing missing values step, I identified three columns that had missing values: 'children, 'days_employed' and 'total_income'. In the 'children' column, there were rows that contained a negative value and rows that contained an outlier value. Assuming both of these are data entry errors, as it is impossible to have a negative amount of children and it is very unlikely to have 20 children, I replaced the values in these rows with 0. Any other rows with missing values was giving a default value of 0 children. In the 'days_employed' and 'total_income' columns, I replaced null values with 0 in order to fill in those missing values. "
   ]
  },
  {
   "cell_type": "markdown",
   "metadata": {},
   "source": [
    "### Conclusion"
   ]
  },
  {
   "cell_type": "markdown",
   "metadata": {},
   "source": []
  },
  {
   "cell_type": "markdown",
   "metadata": {},
   "source": [
    "### Data type replacement"
   ]
  },
  {
   "cell_type": "code",
   "execution_count": 4,
   "metadata": {},
   "outputs": [
    {
     "name": "stdout",
     "output_type": "stream",
     "text": [
      "['real estate' 'car' 'education' 'wedding']\n",
      "children            0\n",
      "days_employed       0\n",
      "dob_years           0\n",
      "education           0\n",
      "education_id        0\n",
      "family_status       0\n",
      "family_status_id    0\n",
      "gender              0\n",
      "income_type         0\n",
      "debt                0\n",
      "total_income        0\n",
      "purpose             0\n",
      "years_employed      0\n",
      "dtype: int64\n"
     ]
    }
   ],
   "source": [
    "# change float type to int for days_employed\n",
    "creditScore['days_employed'] = creditScore['days_employed'].astype(int)\n",
    "\n",
    "for days in creditScore['days_employed']:\n",
    "    if days < 0:\n",
    "        creditScore['days_employed'] = creditScore['days_employed'].replace(days, 0)\n",
    "        \n",
    "creditScore['years_employed'] = (creditScore['days_employed']/365).astype(int).round()\n",
    "\n",
    "# change float type to int for total_income\n",
    "creditScore['total_income'] = creditScore['total_income'].astype(int)\n",
    "\n",
    "#handle duplicates in education\n",
    "creditScore['education'] = creditScore['education'].str.lower()\n",
    "\n",
    "#handle duplicates in purpose\n",
    "import nltk\n",
    "from nltk.stem import WordNetLemmatizer\n",
    "\n",
    "wordnet_lemmma = WordNetLemmatizer()\n",
    "\n",
    "for purpose in creditScore['purpose']:\n",
    "    words = nltk.word_tokenize(purpose)\n",
    "\n",
    "    if 'education' in words or 'university' in words or 'educated' in words:\n",
    "        creditScore['purpose'].replace(purpose, 'education',inplace=True)\n",
    "    \n",
    "    if 'car' in words or 'cars' in words:\n",
    "        creditScore['purpose'].replace(purpose,'car',inplace=True)\n",
    "        \n",
    "    if 'house' in words or 'housing' in words or 'estate' in words or 'property' in words:\n",
    "        creditScore['purpose'].replace(purpose,'real estate',inplace=True)\n",
    "\n",
    "    if 'wedding' in words:\n",
    "        creditScore['purpose'].replace(purpose,'wedding',inplace=True)\n",
    "\n",
    "#print(creditScore['purpose'].unique())\n"
   ]
  },
  {
   "cell_type": "markdown",
   "metadata": {},
   "source": [
    "In this data type replacement step, I started my handling the 'days_employed' column. I believe that this column is quite corrupted as there are many empty values or absurdly high values. To handle this column, I changed the type of the column from float to int, then I changed any negative value for this column to 0 (if you have been employed for a negative amount of time, then you have not been employed for that amount of time and therefore, your days employed are 0) and then I went through each value to change the number from days to years for ease of readibility then stored this new years value in a new column, years_employed. Even after this cleanup, there are still very strange values - looking at the first 30 rows in this column yields either 0 years employed or between 932 to 1096 years of employment, which is not possible. \n",
    "\n",
    "For the 'total_income' column, I changed the type of the column from float to int to make it easier to read the numbers. For the 'education' column, there were many of the same values but with different casing (for example, 'secondary education' and 'Secondary Education' are the same value but because of the capitilization difference, are stored differently). I used the str.lower() method to lower case all of the values which removes this unnecessary repetition.\n",
    "\n",
    "The 'purpose' column was very problematic because there were many purposes that were essentially the same but because of the different wording, was stored differently. For example, 'to have a wedding' and 'wedding ceremony' are the same purpose but worded differently so will be handed as different reasons. We don't want this so I used lemmatization to find all unique identifiable words in the raw purpose output and from that, categorized the purpose accordingly. "
   ]
  },
  {
   "cell_type": "markdown",
   "metadata": {},
   "source": [
    "### Conclusion"
   ]
  },
  {
   "cell_type": "markdown",
   "metadata": {},
   "source": []
  },
  {
   "cell_type": "markdown",
   "metadata": {},
   "source": [
    "### Processing duplicates"
   ]
  },
  {
   "cell_type": "code",
   "execution_count": 5,
   "metadata": {},
   "outputs": [],
   "source": [
    "#print(creditScore.duplicated().sum())\n",
    "creditScore = creditScore.drop_duplicates().reset_index(drop=True)"
   ]
  },
  {
   "cell_type": "markdown",
   "metadata": {},
   "source": [
    "In this processing duplicates step, I identified 408 duplicates in the data. I decided to drop all of these duplicates using the drop_duplicated() method."
   ]
  },
  {
   "cell_type": "markdown",
   "metadata": {},
   "source": [
    "### Conclusion"
   ]
  },
  {
   "cell_type": "markdown",
   "metadata": {},
   "source": []
  },
  {
   "cell_type": "markdown",
   "metadata": {},
   "source": [
    "### Categorizing Data"
   ]
  },
  {
   "cell_type": "code",
   "execution_count": null,
   "metadata": {},
   "outputs": [],
   "source": []
  },
  {
   "cell_type": "markdown",
   "metadata": {},
   "source": [
    "### Conclusion"
   ]
  },
  {
   "cell_type": "markdown",
   "metadata": {},
   "source": []
  },
  {
   "cell_type": "markdown",
   "metadata": {},
   "source": [
    "### Step 3. Answer these questions"
   ]
  },
  {
   "cell_type": "markdown",
   "metadata": {},
   "source": [
    "- Is there a relation between having kids and repaying a loan on time?"
   ]
  },
  {
   "cell_type": "code",
   "execution_count": 7,
   "metadata": {},
   "outputs": [
    {
     "name": "stdout",
     "output_type": "stream",
     "text": [
      "            count      mean       std  min  25%  50%  75%  max\n",
      "children                                                      \n",
      "0         13949.0  0.076708  0.266137  0.0  0.0  0.0  0.0  1.0\n",
      "1          4751.0  0.093454  0.291098  0.0  0.0  0.0  0.0  1.0\n",
      "2          2039.0  0.095145  0.293487  0.0  0.0  0.0  0.0  1.0\n",
      "3           329.0  0.082067  0.274885  0.0  0.0  0.0  0.0  1.0\n",
      "4            40.0  0.100000  0.303822  0.0  0.0  0.0  0.0  1.0\n",
      "5             9.0  0.000000  0.000000  0.0  0.0  0.0  0.0  0.0\n",
      "children\n",
      "0    13.036449\n",
      "1    10.700450\n",
      "2    10.510309\n",
      "3    12.185185\n",
      "4    10.000000\n",
      "5          inf\n",
      "Name: debt, dtype: float64\n"
     ]
    }
   ],
   "source": [
    "kidsData = creditScore.groupby('children')\n",
    "print(kidsData['debt'].describe())\n",
    "print(kidsData['debt'].count()/kidsData['debt'].sum())"
   ]
  },
  {
   "cell_type": "markdown",
   "metadata": {},
   "source": [
    "I started by grouping the data by the 'children' column. \n",
    "\n",
    "There are 13949 rows with 0 children, 4751 rows with 1 child, 2039 rows with 2 children, 329 rows with 3 children, 40 rows with 4 children and 9 rows with 5 children. \n",
    "\n",
    "Looking at the 'debt' column within this data grouping, there are 1070 rows with debt and 0 children, 444 rows with debt and 1 child, 194 rows with debt and 2 children, 27 rows with debt and 3 children, 4 rows with debt and 4 children and 0 rows with debt and 5 children.\n",
    "\n",
    "Putting these two numbers together: 13.0% of rows with 0 children have debt, 10.7% of rows with 1 child have debt, 10.5% of rows with 2 children have debt, 12.1% of rows with 3 children have debt, 10% of with 4 children have debt and 0% of rows with 5 children have debt.\n",
    "\n",
    "From this data, we can conclude that there is a relation between having kids and paying debt on time. The rows with more children are more likely to repay their loans on time, with the exception of the rows with 3 children. "
   ]
  },
  {
   "cell_type": "code",
   "execution_count": 8,
   "metadata": {},
   "outputs": [
    {
     "data": {
      "text/html": [
       "<div>\n",
       "<style scoped>\n",
       "    .dataframe tbody tr th:only-of-type {\n",
       "        vertical-align: middle;\n",
       "    }\n",
       "\n",
       "    .dataframe tbody tr th {\n",
       "        vertical-align: top;\n",
       "    }\n",
       "\n",
       "    .dataframe thead tr th {\n",
       "        text-align: left;\n",
       "    }\n",
       "\n",
       "    .dataframe thead tr:last-of-type th {\n",
       "        text-align: right;\n",
       "    }\n",
       "</style>\n",
       "<table border=\"1\" class=\"dataframe\">\n",
       "  <thead>\n",
       "    <tr>\n",
       "      <th></th>\n",
       "      <th>count</th>\n",
       "      <th>mean</th>\n",
       "    </tr>\n",
       "    <tr>\n",
       "      <th></th>\n",
       "      <th>debt</th>\n",
       "      <th>debt</th>\n",
       "    </tr>\n",
       "    <tr>\n",
       "      <th>children</th>\n",
       "      <th></th>\n",
       "      <th></th>\n",
       "    </tr>\n",
       "  </thead>\n",
       "  <tbody>\n",
       "    <tr>\n",
       "      <td>0</td>\n",
       "      <td>13949</td>\n",
       "      <td>0.076708</td>\n",
       "    </tr>\n",
       "    <tr>\n",
       "      <td>1</td>\n",
       "      <td>4751</td>\n",
       "      <td>0.093454</td>\n",
       "    </tr>\n",
       "    <tr>\n",
       "      <td>2</td>\n",
       "      <td>2039</td>\n",
       "      <td>0.095145</td>\n",
       "    </tr>\n",
       "    <tr>\n",
       "      <td>3</td>\n",
       "      <td>329</td>\n",
       "      <td>0.082067</td>\n",
       "    </tr>\n",
       "    <tr>\n",
       "      <td>4</td>\n",
       "      <td>40</td>\n",
       "      <td>0.100000</td>\n",
       "    </tr>\n",
       "    <tr>\n",
       "      <td>5</td>\n",
       "      <td>9</td>\n",
       "      <td>0.000000</td>\n",
       "    </tr>\n",
       "  </tbody>\n",
       "</table>\n",
       "</div>"
      ],
      "text/plain": [
       "          count      mean\n",
       "           debt      debt\n",
       "children                 \n",
       "0         13949  0.076708\n",
       "1          4751  0.093454\n",
       "2          2039  0.095145\n",
       "3           329  0.082067\n",
       "4            40  0.100000\n",
       "5             9  0.000000"
      ]
     },
     "execution_count": 8,
     "metadata": {},
     "output_type": "execute_result"
    }
   ],
   "source": [
    "# reviewer's code \n",
    "\n",
    "creditScore.pivot_table(index = 'children', values = 'debt', aggfunc = ['count', 'mean'])"
   ]
  },
  {
   "cell_type": "markdown",
   "metadata": {},
   "source": [
    "### Conclusion"
   ]
  },
  {
   "cell_type": "markdown",
   "metadata": {},
   "source": []
  },
  {
   "cell_type": "markdown",
   "metadata": {},
   "source": [
    "- Is there a relation between marital status and repaying a loan on time?"
   ]
  },
  {
   "cell_type": "code",
   "execution_count": 9,
   "metadata": {},
   "outputs": [
    {
     "name": "stdout",
     "output_type": "stream",
     "text": [
      "                     count      mean       std  min  25%  50%  75%  max\n",
      "family_status                                                          \n",
      "civil partnership   4124.0  0.094083  0.291980  0.0  0.0  0.0  0.0  1.0\n",
      "divorced            1193.0  0.071249  0.257348  0.0  0.0  0.0  0.0  1.0\n",
      "married            12074.0  0.076942  0.266511  0.0  0.0  0.0  0.0  1.0\n",
      "unmarried           2784.0  0.098420  0.297935  0.0  0.0  0.0  0.0  1.0\n",
      "widow / widower      942.0  0.066879  0.249945  0.0  0.0  0.0  0.0  1.0\n",
      "family_status\n",
      "civil partnership    10.628866\n",
      "divorced             14.035294\n",
      "married              12.996771\n",
      "unmarried            10.160584\n",
      "widow / widower      14.952381\n",
      "Name: debt, dtype: float64\n"
     ]
    }
   ],
   "source": [
    "maritalData = creditScore.groupby('family_status')\n",
    "print(maritalData['debt'].describe())\n",
    "print(maritalData['debt'].count()/maritalData['debt'].sum())"
   ]
  },
  {
   "cell_type": "markdown",
   "metadata": {},
   "source": [
    "I started by grouping the data by the 'family_status' column.\n",
    "\n",
    "Looking at the data: 388/4124 = 14.9% of those who are widows have debt, 14.0% of those who are divorced have debt, 13% of those who are married have debt,10.6% of those in a civil partnership have debt, 10.1% of those who are unmarried have debt.\n",
    "\n",
    "From this data, we can conclude that there is a relation between martial status and repaying the debt on time. Those who either have been married (widows, divorced) or are married are more likely to have debt than those who are unmarried (either single or in a civil partnership). "
   ]
  },
  {
   "cell_type": "markdown",
   "metadata": {},
   "source": [
    "### Conclusion"
   ]
  },
  {
   "cell_type": "markdown",
   "metadata": {},
   "source": []
  },
  {
   "cell_type": "markdown",
   "metadata": {},
   "source": [
    "- Is there a relation between income level and repaying a loan on time?"
   ]
  },
  {
   "cell_type": "code",
   "execution_count": 10,
   "metadata": {},
   "outputs": [
    {
     "name": "stdout",
     "output_type": "stream",
     "text": [
      "                               count      mean       std  min   25%  50%  \\\n",
      "income_type                                                                \n",
      "business                      5032.0  0.074722  0.262968  0.0  0.00  0.0   \n",
      "civil servant                 1450.0  0.059310  0.236286  0.0  0.00  0.0   \n",
      "employee                     10899.0  0.097165  0.296196  0.0  0.00  0.0   \n",
      "entrepreneur                     2.0  0.000000  0.000000  0.0  0.00  0.0   \n",
      "paternity / maternity leave      1.0  1.000000       NaN  1.0  1.00  1.0   \n",
      "retiree                       3730.0  0.057909  0.233602  0.0  0.00  0.0   \n",
      "student                          1.0  0.000000       NaN  0.0  0.00  0.0   \n",
      "unemployed                       2.0  0.500000  0.707107  0.0  0.25  0.5   \n",
      "\n",
      "                              75%  max  \n",
      "income_type                             \n",
      "business                     0.00  1.0  \n",
      "civil servant                0.00  1.0  \n",
      "employee                     0.00  1.0  \n",
      "entrepreneur                 0.00  0.0  \n",
      "paternity / maternity leave  1.00  1.0  \n",
      "retiree                      0.00  1.0  \n",
      "student                      0.00  0.0  \n",
      "unemployed                   0.75  1.0  \n",
      "income_type\n",
      "business                       13.382979\n",
      "civil servant                  16.860465\n",
      "employee                       10.291785\n",
      "entrepreneur                         inf\n",
      "paternity / maternity leave     1.000000\n",
      "retiree                        17.268519\n",
      "student                              inf\n",
      "unemployed                      2.000000\n",
      "Name: debt, dtype: float64\n"
     ]
    }
   ],
   "source": [
    "incomeData = creditScore.groupby('income_type')\n",
    "print(incomeData['debt'].describe())\n",
    "print(incomeData['debt'].count()/incomeData['debt'].sum())"
   ]
  },
  {
   "cell_type": "markdown",
   "metadata": {},
   "source": [
    "I started by grouping the data by the 'income_type' column.\n",
    "\n",
    "Looking at the data: 376/5032 = 13.3% of those who own a business have debt, 86/1450 = 16.8% of those who are civil servants have debt, 1059/10899 = 10.3% of those who are employees have debt, neither of the two entrepreneurs in the data have debt, the 1 row on paternity/maternity leave have debt, 216/3730 = 17.2% of retirees have debt, the 1 student in the data does not have debt, and only 1 of the 2 unemployed in the data have debt. \n",
    "\n",
    "From this data, we can conclude that there is a relation income level and repaying the loan on time. Those who either were employed (retired) or are employed by an external entity (business, civil servent, employee) have high percentage of debt than those who are either self employed (entrepreneur), on paternity / maternity leave, a student or unemployed. "
   ]
  },
  {
   "cell_type": "markdown",
   "metadata": {},
   "source": [
    "### Conclusion"
   ]
  },
  {
   "cell_type": "markdown",
   "metadata": {},
   "source": []
  },
  {
   "cell_type": "markdown",
   "metadata": {},
   "source": [
    "- How do different loan purposes affect on-time repayment of the loan?"
   ]
  },
  {
   "cell_type": "code",
   "execution_count": 11,
   "metadata": {},
   "outputs": [
    {
     "name": "stdout",
     "output_type": "stream",
     "text": [
      "               count      mean       std  min  25%  50%  75%  max\n",
      "purpose                                                          \n",
      "car           4271.0  0.094123  0.292034  0.0  0.0  0.0  0.0  1.0\n",
      "education     3964.0  0.093340  0.290945  0.0  0.0  0.0  0.0  1.0\n",
      "real estate  10576.0  0.073846  0.261533  0.0  0.0  0.0  0.0  1.0\n",
      "wedding       2306.0  0.080659  0.272370  0.0  0.0  0.0  0.0  1.0\n",
      "purpose\n",
      "car            10.624378\n",
      "education      10.713514\n",
      "real estate    13.541613\n",
      "wedding        12.397849\n",
      "Name: debt, dtype: float64\n"
     ]
    }
   ],
   "source": [
    "purposeData = creditScore.groupby('purpose')\n",
    "print(purposeData['debt'].describe())\n",
    "print(purposeData['debt'].count() / purposeData['debt'].sum())"
   ]
  },
  {
   "cell_type": "markdown",
   "metadata": {},
   "source": [
    "I started by grouping the data by the 'purpose' column.\n",
    "\n",
    "Looking at the data: 781/10576 = 13.5% of those with debt took it out for real estate purpoes, 186/2306 = 12.4% of those with debt took it out for wedding purposes, 370/3964 = 10.7% of those with debt took it out for education purposes and 402/4271 = 10.6% of those with debt took it out for car purchase purposes. \n",
    "\n",
    "From this data, we can conclude that most people take out loans for real estate purposes (50% of people who took out debt took it out for real estate purposes). As a result, the number of those who have debt and took out that debt for real estate purposes is going to be the highest. Those who took out loans for real estate or wedding purposes are less likely to repay their loans on time than those who took out loans for car or education purposes."
   ]
  },
  {
   "cell_type": "markdown",
   "metadata": {},
   "source": [
    "### Conclusion"
   ]
  },
  {
   "cell_type": "markdown",
   "metadata": {},
   "source": []
  },
  {
   "cell_type": "markdown",
   "metadata": {},
   "source": [
    "### Step 4. General conclusion"
   ]
  },
  {
   "cell_type": "markdown",
   "metadata": {},
   "source": []
  },
  {
   "cell_type": "markdown",
   "metadata": {},
   "source": [
    "\n",
    "\n",
    "From this data, we can conclude that there is a relation income level and repaying the loan on time. Those who either were employed (retired) or are employed by an external entity (business, civil servent, employee) have high percentage of debt than those who are either self employed (entrepreneur), on paternity / maternity leave, a student or unemployed. \n",
    "\n",
    "\n",
    "In conclusion:\n",
    "- Those who have children are generally more likely to repay their loans on time, compared to those who do not have children.\n",
    "- Those who have been married or are currently maried are generally more likely to have debt than those who have never been married or are not married.\n",
    "- Most people take out loans for real estate purposes. Those who take out loans for real estate or wedding purposes are less likely to repay their loans on time.\n",
    "- Those who either were employed (retired) or are currently employed by an external entity (business, civil servant,employee) are more likely to have debt than those who are either self-employed (entrepreneur), on paternity / maternity leave, a student or unemployed."
   ]
  },
  {
   "cell_type": "code",
   "execution_count": null,
   "metadata": {},
   "outputs": [],
   "source": []
  }
 ],
 "metadata": {
  "kernelspec": {
   "display_name": "Python 3",
   "language": "python",
   "name": "python3"
  },
  "language_info": {
   "codemirror_mode": {
    "name": "ipython",
    "version": 3
   },
   "file_extension": ".py",
   "mimetype": "text/x-python",
   "name": "python",
   "nbconvert_exporter": "python",
   "pygments_lexer": "ipython3",
   "version": "3.7.6"
  }
 },
 "nbformat": 4,
 "nbformat_minor": 2
}
